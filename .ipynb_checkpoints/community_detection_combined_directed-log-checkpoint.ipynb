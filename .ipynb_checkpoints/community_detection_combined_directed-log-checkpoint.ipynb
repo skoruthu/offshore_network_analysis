{
 "cells": [
  {
   "cell_type": "code",
   "execution_count": null,
   "id": "56dcd962",
   "metadata": {},
   "outputs": [],
   "source": [
    "import pandas as pd\n",
    "import numpy as np\n",
    "import igraph as ig\n",
    "import collections\n",
    "import matplotlib\n",
    "%matplotlib inline\n",
    "\n",
    "from sklearn.preprocessing import MinMaxScaler\n"
   ]
  },
  {
   "cell_type": "markdown",
   "id": "c43fd126",
   "metadata": {},
   "source": [
    "## Explore Data"
   ]
  },
  {
   "cell_type": "code",
   "execution_count": null,
   "id": "05336298",
   "metadata": {},
   "outputs": [],
   "source": [
    "df_unweighted = pd.read_csv('combined_final_unweighted.csv')\n",
    "df_unweighted"
   ]
  },
  {
   "cell_type": "code",
   "execution_count": null,
   "id": "292e00dd",
   "metadata": {},
   "outputs": [],
   "source": [
    "df_weighted = pd.read_csv('combined_final_weighted.csv')\n",
    "df_weighted"
   ]
  },
  {
   "cell_type": "code",
   "execution_count": null,
   "id": "7726ebda",
   "metadata": {},
   "outputs": [],
   "source": [
    "df_weighted['status'].unique()"
   ]
  },
  {
   "cell_type": "code",
   "execution_count": null,
   "id": "eb5283e0",
   "metadata": {},
   "outputs": [],
   "source": [
    "df_weighted_grouped = pd.read_csv('combined_final_weighted_groupedby.csv')\n",
    "df_weighted_grouped"
   ]
  },
  {
   "cell_type": "code",
   "execution_count": null,
   "id": "52cd318a",
   "metadata": {},
   "outputs": [],
   "source": [
    "df_weighted_grouped.describe()"
   ]
  },
  {
   "cell_type": "code",
   "execution_count": null,
   "id": "891283fe",
   "metadata": {},
   "outputs": [],
   "source": [
    "df_weighted_grouped['norm_weights']=(df_weighted_grouped['weight']-df_weighted_grouped['weight'].min())/(df_weighted_grouped['weight'].max()-df_weighted_grouped['weight'].min())\n",
    "\n",
    "df_weighted_grouped\n"
   ]
  },
  {
   "cell_type": "code",
   "execution_count": null,
   "id": "a1c432f3",
   "metadata": {},
   "outputs": [],
   "source": [
    "df_weighted_grouped.describe()"
   ]
  },
  {
   "cell_type": "code",
   "execution_count": null,
   "id": "6d805838",
   "metadata": {},
   "outputs": [],
   "source": [
    "df_weighted_grouped['log_weights'] = np.log(df_weighted_grouped['weight']) + 1\n",
    "df_weighted_grouped"
   ]
  },
  {
   "cell_type": "code",
   "execution_count": null,
   "id": "4fda76a3",
   "metadata": {},
   "outputs": [],
   "source": [
    "df_weighted_grouped.describe()"
   ]
  },
  {
   "cell_type": "markdown",
   "id": "ebf1f98f",
   "metadata": {},
   "source": [
    "### Convert Data to an Undirected Edge List"
   ]
  },
  {
   "cell_type": "code",
   "execution_count": null,
   "id": "d82b39fe",
   "metadata": {},
   "outputs": [],
   "source": [
    "# df_jur_grouped_list = df_jur_grouped.values.tolist()\n",
    "# df_jur_grouped_list"
   ]
  },
  {
   "cell_type": "code",
   "execution_count": null,
   "id": "736065b3",
   "metadata": {},
   "outputs": [],
   "source": [
    "# d = collections.defaultdict(int)\n",
    "# for n1, n2, v in df_jur_grouped_list:\n",
    "#     d[min(n1, n2), max(n1, n2)] += v\n",
    "# result = [[k[0], k[1], v] for k, v in d.items()]"
   ]
  },
  {
   "cell_type": "code",
   "execution_count": null,
   "id": "ac7355c3",
   "metadata": {},
   "outputs": [],
   "source": [
    "# df_net = pd.DataFrame(result)\n",
    "# df_net"
   ]
  },
  {
   "cell_type": "code",
   "execution_count": null,
   "id": "d784b368",
   "metadata": {},
   "outputs": [],
   "source": [
    "# df_net = df_net.rename(columns = {0:'node_1', 1:'node_2', 2: 'weight'})\n",
    "# df_net"
   ]
  },
  {
   "cell_type": "code",
   "execution_count": null,
   "id": "4c7d865f",
   "metadata": {},
   "outputs": [],
   "source": [
    "#df_net.to_csv('undirected_weighted_grouped.csv', index = False)"
   ]
  },
  {
   "cell_type": "code",
   "execution_count": null,
   "id": "fead6658",
   "metadata": {},
   "outputs": [],
   "source": [
    "# df_net.describe()"
   ]
  },
  {
   "cell_type": "markdown",
   "id": "d6c3c07d",
   "metadata": {},
   "source": [
    "# All Relationships"
   ]
  },
  {
   "cell_type": "markdown",
   "id": "86543b32",
   "metadata": {},
   "source": [
    "## Create Graph"
   ]
  },
  {
   "cell_type": "code",
   "execution_count": null,
   "id": "7921f0a3",
   "metadata": {},
   "outputs": [],
   "source": [
    "g = ig.Graph.TupleList(df_weighted_grouped.itertuples(index=False), directed=True, edge_attrs={'weight': \"log_weights\"})\n"
   ]
  },
  {
   "cell_type": "code",
   "execution_count": null,
   "id": "80620b18",
   "metadata": {},
   "outputs": [],
   "source": [
    "ig.plot(g)"
   ]
  },
  {
   "cell_type": "code",
   "execution_count": null,
   "id": "16490f13",
   "metadata": {},
   "outputs": [],
   "source": [
    "g.diameter()"
   ]
  },
  {
   "cell_type": "code",
   "execution_count": null,
   "id": "7d0d823a",
   "metadata": {},
   "outputs": [],
   "source": [
    "print( \"Clustering Coefficient: \", g.transitivity_undirected())"
   ]
  },
  {
   "cell_type": "code",
   "execution_count": null,
   "id": "d410c2b5",
   "metadata": {},
   "outputs": [],
   "source": [
    "np.mean(g.degree())"
   ]
  },
  {
   "cell_type": "code",
   "execution_count": null,
   "id": "a9eb8ced",
   "metadata": {},
   "outputs": [],
   "source": [
    "np.mean(g.strength(weights = 'weight'))"
   ]
  },
  {
   "cell_type": "code",
   "execution_count": null,
   "id": "0b927a1d",
   "metadata": {},
   "outputs": [],
   "source": [
    "df_strength = pd.DataFrame({'name': list(g.vs['name']), 'weighted_degree':g.strength(weights = 'weight') } )\n",
    "df_strength = df_strength.sort_values('weighted_degree', ascending = False).reset_index(drop = True)\n",
    "df_strength"
   ]
  },
  {
   "cell_type": "code",
   "execution_count": null,
   "id": "6fcf9a4e",
   "metadata": {},
   "outputs": [],
   "source": [
    "df_indegree = pd.DataFrame({'name': list(g.vs['name']), 'weighted_indegree':g.strength(weights = 'weight', mode = 'in') } )\n",
    "df_indegree = df_indegree.sort_values('weighted_indegree', ascending = False).reset_index(drop = True)\n",
    "df_indegree"
   ]
  },
  {
   "cell_type": "code",
   "execution_count": null,
   "id": "ff55aba5",
   "metadata": {},
   "outputs": [],
   "source": [
    "df_outdegree = pd.DataFrame({'name': list(g.vs['name']), 'weighted_outdegree':g.strength(weights = 'weight', mode = 'out') } )\n",
    "df_outdegree = df_outdegree.sort_values('weighted_outdegree', ascending = False).reset_index(drop = True)\n",
    "df_outdegree"
   ]
  },
  {
   "cell_type": "markdown",
   "id": "38b98777",
   "metadata": {},
   "source": [
    "## Metrics"
   ]
  },
  {
   "cell_type": "code",
   "execution_count": null,
   "id": "afd191a0",
   "metadata": {},
   "outputs": [],
   "source": [
    "def get_diameter(community):\n",
    "    \n",
    "    diameters = []\n",
    "    \n",
    "    for i in range(len(community.subgraphs())):\n",
    "    \n",
    "        diameters.append(community.subgraphs()[i].diameter())\n",
    "\n",
    "    return (diameters)"
   ]
  },
  {
   "cell_type": "code",
   "execution_count": null,
   "id": "03dcc812",
   "metadata": {},
   "outputs": [],
   "source": [
    "def get_transitivity(community):\n",
    "    \n",
    "    transitivity = []\n",
    "    \n",
    "    for i in range(len(community.subgraphs())):\n",
    "    \n",
    "        transitivity.append(community.subgraphs()[i].transitivity_undirected())\n",
    "\n",
    "    return (transitivity)"
   ]
  },
  {
   "cell_type": "code",
   "execution_count": null,
   "id": "27aae10b",
   "metadata": {},
   "outputs": [],
   "source": [
    "def get_avg_degree(community):\n",
    "    \n",
    "    degree = []\n",
    "    \n",
    "    for i in range(len(community.subgraphs())):\n",
    "    \n",
    "        degree.append(np.mean(community.subgraphs()[i].degree()))\n",
    "\n",
    "    return degree"
   ]
  },
  {
   "cell_type": "code",
   "execution_count": null,
   "id": "a328b92b",
   "metadata": {},
   "outputs": [],
   "source": [
    "def get_avg_weighted_degree(community):\n",
    "    \n",
    "    weighted_degree = []\n",
    "    \n",
    "    for i in range(len(community.subgraphs())):\n",
    "    \n",
    "        weighted_degree.append(np.mean(community.subgraphs()[i].strength(weights = 'weight')))\n",
    "\n",
    "    return weighted_degree"
   ]
  },
  {
   "cell_type": "markdown",
   "id": "e9a0b475",
   "metadata": {},
   "source": [
    "## Community Detection"
   ]
  },
  {
   "cell_type": "code",
   "execution_count": null,
   "id": "fcb26462",
   "metadata": {},
   "outputs": [],
   "source": [
    "# Define colors used for visualization\n",
    "colors = ['blue', 'yellow', 'green','purple', 'pink', 'orange', 'lightcoral', 'plum', 'darkgreen', 'darkblue', 'rosybrown',\n",
    "         'crimson', 'steelblue', 'khaki', 'moccasin', 'orangered', 'fuchsia', 'thistle', 'salmon', 'chocolate', 'lightseagreen',\n",
    "         'springgreen', 'darkseagreen', 'deeppink', 'mediumvioletred','olive']"
   ]
  },
  {
   "cell_type": "markdown",
   "id": "a4ed2703",
   "metadata": {},
   "source": [
    "### Label Propogation Community Detection"
   ]
  },
  {
   "cell_type": "code",
   "execution_count": null,
   "id": "622b9cff",
   "metadata": {},
   "outputs": [],
   "source": [
    "comm_lp= g.community_label_propagation(weights = 'weight')\n",
    "\n",
    "ig.plot(comm_lp, mark_groups = True, layout=\"drl\")"
   ]
  },
  {
   "cell_type": "code",
   "execution_count": null,
   "id": "23f5fb8e",
   "metadata": {},
   "outputs": [],
   "source": [
    "modularity = g.modularity(comm_lp, weights='weight')\n",
    "print(modularity)"
   ]
  },
  {
   "cell_type": "code",
   "execution_count": null,
   "id": "bdaff0ed",
   "metadata": {},
   "outputs": [],
   "source": [
    "#get metrics for each community\n",
    "\n",
    "print('average weighted degree: ', get_avg_weighted_degree(comm_lp))\n",
    "print('average degree: ', get_avg_degree(comm_lp))\n",
    "print('transitivity: ', get_transitivity(comm_lp))\n",
    "print('diameter: ', get_diameter(comm_lp))"
   ]
  },
  {
   "cell_type": "markdown",
   "id": "ca96c70e",
   "metadata": {},
   "source": [
    "### Leading Eigenvector Community Detection"
   ]
  },
  {
   "cell_type": "code",
   "execution_count": null,
   "id": "bf545355",
   "metadata": {},
   "outputs": [],
   "source": [
    "comm_leading_eigenvector= g.community_leading_eigenvector(weights = 'weight')\n",
    "\n",
    "ig.plot(comm_leading_eigenvector, mark_groups = True, layout=\"drl\")"
   ]
  },
  {
   "cell_type": "code",
   "execution_count": null,
   "id": "314d6e90",
   "metadata": {},
   "outputs": [],
   "source": [
    "modularity = g.modularity(comm_leading_eigenvector, weights='weight')\n",
    "print(modularity)"
   ]
  },
  {
   "cell_type": "code",
   "execution_count": null,
   "id": "f43d186c",
   "metadata": {},
   "outputs": [],
   "source": [
    "#get metrics for each community\n",
    "\n",
    "print('average weighted degree: ', get_avg_weighted_degree(comm_leading_eigenvector))\n",
    "print('average degree: ', get_avg_degree(comm_leading_eigenvector))\n",
    "print('transitivity: ', get_transitivity(comm_leading_eigenvector))\n",
    "print('diameter: ', get_diameter(comm_leading_eigenvector))"
   ]
  },
  {
   "cell_type": "code",
   "execution_count": null,
   "id": "42dbdf69",
   "metadata": {},
   "outputs": [],
   "source": [
    "df_leading_eigenvector = pd.DataFrame({'name': list(g.vs['name']), 'community':comm_leading_eigenvector.membership } )\n",
    "df_leading_eigenvector"
   ]
  },
  {
   "cell_type": "code",
   "execution_count": null,
   "id": "fa8968c6",
   "metadata": {},
   "outputs": [],
   "source": [
    "df_leading_eigenvector.describe()"
   ]
  },
  {
   "cell_type": "code",
   "execution_count": null,
   "id": "74b278cb",
   "metadata": {},
   "outputs": [],
   "source": [
    "##plot community\n",
    "visual_style = {}\n",
    "\n",
    "vertex_colors = []\n",
    "\n",
    "for i in range(len(comm_leading_eigenvector.membership)):\n",
    "    vertex_colors.append(colors[comm_leading_eigenvector.membership[i]])\n",
    "    \n",
    "# Set bbox and margin\n",
    "visual_style[\"bbox\"] = (5000,5000)\n",
    "visual_style[\"margin\"] = 17\n",
    "\n",
    "# Set vertex colours\n",
    "visual_style[\"vertex_color\"] = vertex_colors\n",
    "\n",
    "# Set edge width\n",
    "visual_style[\"edge_width\"] = g.es['weight']\n",
    "\n",
    "# Set edge color\n",
    "visual_style[\"edge_color\"] = \"rgba(1,1,1,0.1)\" \n",
    "\n",
    "# Set vertex size\n",
    "visual_style[\"vertex_size\"] = 15\n",
    "\n",
    "# Set vertex label size\n",
    "visual_style[\"vertex_label_size\"] = 20\n",
    "\n",
    "# Set vertex label color\n",
    "visual_style[\"vertex_label_color\"] = 'red'\n",
    "\n",
    "# Don't curve the edges\n",
    "visual_style[\"edge_curved\"] = False\n",
    "\n",
    "# Set the layout\n",
    "my_layout = g.layout_fruchterman_reingold()\n",
    "visual_style[\"layout\"] = my_layout\n",
    "\n",
    "# Plot the graph\n",
    "ig.plot(g,'log_images/directed_images/communities_leading_eigenvector.png', vertex_label = g.vs['name'] , **visual_style)"
   ]
  },
  {
   "cell_type": "code",
   "execution_count": null,
   "id": "f286ec2f",
   "metadata": {},
   "outputs": [],
   "source": [
    "# Set the layout\n",
    "my_layout = g.layout_circle()\n",
    "visual_style[\"layout\"] = my_layout\n",
    "\n",
    "# Plot the graph\n",
    "ig.plot(g,'log_images/directed_images/leading_vector_circular.png', vertex_label = g.vs['name'] , **visual_style)"
   ]
  },
  {
   "cell_type": "code",
   "execution_count": null,
   "id": "6bab0ff6",
   "metadata": {},
   "outputs": [],
   "source": [
    "for i in range(len(comm_leading_eigenvector.subgraphs())):\n",
    "    \n",
    "    visual_style[\"bbox\"] = (2000,2000)\n",
    "    visual_style[\"margin\"] = 17\n",
    "    \n",
    "    # Set vertex colours\n",
    "    visual_style[\"vertex_color\"] = 'green'\n",
    "\n",
    "    # Set edge width\n",
    "    visual_style[\"edge_width\"] = comm_leading_eigenvector.subgraphs()[i].es['weight']\n",
    "    # Set the layout\n",
    "    my_layout = comm_leading_eigenvector.subgraphs()[i].layout_fruchterman_reingold()\n",
    "    visual_style[\"layout\"] = my_layout\n",
    "\n",
    "    ig.plot(comm_leading_eigenvector.subgraphs()[i],'log_images/directed_images/leading_eigenvector_subgraph' + str(i) + '.png' ,vertex_label = comm_leading_eigenvector.subgraphs()[i].vs['name'],**visual_style  )\n",
    "    "
   ]
  },
  {
   "cell_type": "markdown",
   "id": "225b4dc3",
   "metadata": {},
   "source": [
    "### Spinglass Community Detection"
   ]
  },
  {
   "cell_type": "code",
   "execution_count": null,
   "id": "c8f3c7ac",
   "metadata": {},
   "outputs": [],
   "source": [
    "comm_spinglass = g.community_spinglass(weights = 'weight')\n",
    "\n",
    "ig.plot(comm_spinglass, mark_groups = True, layout=\"drl\")"
   ]
  },
  {
   "cell_type": "code",
   "execution_count": null,
   "id": "157d6412",
   "metadata": {},
   "outputs": [],
   "source": [
    "modularity = g.modularity(comm_spinglass, weights='weight')\n",
    "print(modularity)"
   ]
  },
  {
   "cell_type": "code",
   "execution_count": null,
   "id": "5eab26fa",
   "metadata": {},
   "outputs": [],
   "source": [
    "#get metrics for each community\n",
    "\n",
    "print('average weighted degree: ', get_avg_weighted_degree(comm_spinglass))\n",
    "print('average degree: ', get_avg_degree(comm_spinglass))\n",
    "print('transitivity: ', get_transitivity(comm_spinglass))\n",
    "print('diameter: ', get_diameter(comm_spinglass))"
   ]
  },
  {
   "cell_type": "code",
   "execution_count": null,
   "id": "fecedfe8",
   "metadata": {},
   "outputs": [],
   "source": [
    "df_spinglass = pd.DataFrame({'name': list(g.vs['name']), 'community':comm_spinglass.membership } )\n",
    "df_spinglass"
   ]
  },
  {
   "cell_type": "code",
   "execution_count": null,
   "id": "419b8a64",
   "metadata": {},
   "outputs": [],
   "source": [
    "df_spinglass.describe()"
   ]
  },
  {
   "cell_type": "code",
   "execution_count": null,
   "id": "f2d5e5bb",
   "metadata": {},
   "outputs": [],
   "source": [
    "##plot community\n",
    "visual_style = {}\n",
    "\n",
    "vertex_colors = []\n",
    "\n",
    "for i in range(len(comm_spinglass.membership)):\n",
    "    vertex_colors.append(colors[comm_spinglass.membership[i]])\n",
    "    \n",
    "# Set bbox and margin\n",
    "visual_style[\"bbox\"] = (5000,5000)\n",
    "visual_style[\"margin\"] = 17\n",
    "\n",
    "# Set vertex colours\n",
    "visual_style[\"vertex_color\"] = vertex_colors\n",
    "\n",
    "# Set edge width\n",
    "visual_style[\"edge_width\"] = g.es['weight']\n",
    "\n",
    "# Set edge color\n",
    "visual_style[\"edge_color\"] = \"rgba(1,1,1,0.1)\" \n",
    "\n",
    "# Set vertex size\n",
    "visual_style[\"vertex_size\"] = 15\n",
    "\n",
    "# Set vertex label size\n",
    "visual_style[\"vertex_label_size\"] = 20\n",
    "\n",
    "# Set vertex label color\n",
    "visual_style[\"vertex_label_color\"] = 'red'\n",
    "\n",
    "# Don't curve the edges\n",
    "visual_style[\"edge_curved\"] = False\n",
    "\n",
    "# Set the layout\n",
    "my_layout = g.layout_fruchterman_reingold()\n",
    "visual_style[\"layout\"] = my_layout\n",
    "\n",
    "# Plot the graph\n",
    "ig.plot(g,'log_images/directed_images/communities_spinglass.png', vertex_label = g.vs['name'] , **visual_style)"
   ]
  },
  {
   "cell_type": "code",
   "execution_count": null,
   "id": "f0b55c18",
   "metadata": {},
   "outputs": [],
   "source": [
    "# Set the layout\n",
    "my_layout = g.layout_circle()\n",
    "visual_style[\"layout\"] = my_layout\n",
    "\n",
    "# Plot the graph\n",
    "ig.plot(g,'log_images/directed_images/spinglass_circular.png', vertex_label = g.vs['name'] , **visual_style)"
   ]
  },
  {
   "cell_type": "code",
   "execution_count": null,
   "id": "ae76c214",
   "metadata": {},
   "outputs": [],
   "source": [
    "for i in range(len(comm_spinglass.subgraphs())):\n",
    "    \n",
    "    visual_style[\"bbox\"] = (2000,2000)\n",
    "    visual_style[\"margin\"] = 17\n",
    "    \n",
    "    # Set vertex colours\n",
    "    visual_style[\"vertex_color\"] = 'green'\n",
    "\n",
    "    # Set edge width\n",
    "    visual_style[\"edge_width\"] = comm_spinglass.subgraphs()[i].es['weight']\n",
    "    # Set the layout\n",
    "    my_layout = comm_spinglass.subgraphs()[i].layout_fruchterman_reingold()\n",
    "    visual_style[\"layout\"] = my_layout\n",
    "\n",
    "    ig.plot(comm_spinglass.subgraphs()[i],'log_images/directed_images/spinglass_subgraph' + str(i) + '.png' ,vertex_label = comm_spinglass.subgraphs()[i].vs['name'],**visual_style  )\n",
    "    "
   ]
  },
  {
   "cell_type": "markdown",
   "id": "40071930",
   "metadata": {},
   "source": [
    "### Walktrap Community Detection"
   ]
  },
  {
   "cell_type": "code",
   "execution_count": null,
   "id": "b834793e",
   "metadata": {},
   "outputs": [],
   "source": [
    "walktrap = g.community_walktrap(weights = 'weight', steps = 2)\n",
    "\n",
    "comm_walktrap = walktrap.as_clustering()\n",
    "\n",
    "ig.plot(comm_walktrap, mark_groups = True, layout=\"drl\")"
   ]
  },
  {
   "cell_type": "code",
   "execution_count": null,
   "id": "bbecad80",
   "metadata": {},
   "outputs": [],
   "source": [
    "modularity = g.modularity(comm_walktrap, weights='weight')\n",
    "print(modularity)"
   ]
  },
  {
   "cell_type": "code",
   "execution_count": null,
   "id": "8b24b0d6",
   "metadata": {},
   "outputs": [],
   "source": [
    "#get metrics for each community\n",
    "\n",
    "print('average weighted degree: ', get_avg_weighted_degree(comm_walktrap))\n",
    "print('average degree: ', get_avg_degree(comm_walktrap))\n",
    "print('transitivity: ', get_transitivity(comm_walktrap))\n",
    "print('diameter: ', get_diameter(comm_walktrap))"
   ]
  },
  {
   "cell_type": "code",
   "execution_count": null,
   "id": "aebf62c9",
   "metadata": {},
   "outputs": [],
   "source": [
    "df_walktrap = pd.DataFrame({'name': list(g.vs['name']), 'community':comm_walktrap.membership } )\n",
    "df_walktrap"
   ]
  },
  {
   "cell_type": "code",
   "execution_count": null,
   "id": "073a092c",
   "metadata": {},
   "outputs": [],
   "source": [
    "df_walktrap.describe()"
   ]
  },
  {
   "cell_type": "code",
   "execution_count": null,
   "id": "06542ced",
   "metadata": {},
   "outputs": [],
   "source": [
    "# ##plot community\n",
    "# visual_style = {}\n",
    "\n",
    "# vertex_colors = []\n",
    "\n",
    "# for i in range(len(comm_walktrap.membership)):\n",
    "#     vertex_colors.append(colors[comm_walktrap.membership[i]])\n",
    "    \n",
    "# # Set bbox and margin\n",
    "# visual_style[\"bbox\"] = (5000,5000)\n",
    "# visual_style[\"margin\"] = 17\n",
    "\n",
    "# # Set vertex colours\n",
    "# visual_style[\"vertex_color\"] = vertex_colors\n",
    "\n",
    "# # Set edge width\n",
    "# visual_style[\"edge_width\"] = g.es['weight']\n",
    "\n",
    "# # Set edge color\n",
    "# visual_style[\"edge_color\"] = \"rgba(1,1,1,0.1)\" \n",
    "\n",
    "# # Set vertex size\n",
    "# visual_style[\"vertex_size\"] = 15\n",
    "\n",
    "# # Set vertex label size\n",
    "# visual_style[\"vertex_label_size\"] = 20\n",
    "\n",
    "# # Set vertex label color\n",
    "# visual_style[\"vertex_label_color\"] = 'red'\n",
    "\n",
    "# # Don't curve the edges\n",
    "# visual_style[\"edge_curved\"] = False\n",
    "\n",
    "# # Set the layout\n",
    "# my_layout = g.layout_fruchterman_reingold()\n",
    "# visual_style[\"layout\"] = my_layout\n",
    "\n",
    "# # Plot the graph\n",
    "# ig.plot(g,'log_images/directed_images/communities_walktrap.png', vertex_label = g.vs['name'] , **visual_style)"
   ]
  },
  {
   "cell_type": "code",
   "execution_count": null,
   "id": "730a197e",
   "metadata": {},
   "outputs": [],
   "source": [
    "# # Set the layout\n",
    "# my_layout = g.layout_circle()\n",
    "# visual_style[\"layout\"] = my_layout\n",
    "\n",
    "# # Plot the graph\n",
    "# ig.plot(g,'log_images/directed_images/walktrap_circular.png', vertex_label = g.vs['name'] , **visual_style)"
   ]
  },
  {
   "cell_type": "code",
   "execution_count": null,
   "id": "03b6f571",
   "metadata": {},
   "outputs": [],
   "source": [
    "# for i in range(len(comm_walktrap.subgraphs())):\n",
    "    \n",
    "#     visual_style[\"bbox\"] = (2000,2000)\n",
    "#     visual_style[\"margin\"] = 17\n",
    "    \n",
    "#     # Set vertex colours\n",
    "#     visual_style[\"vertex_color\"] = 'green'\n",
    "\n",
    "#     # Set edge width\n",
    "#     visual_style[\"edge_width\"] = comm_walktrap.subgraphs()[i].es['weight']\n",
    "#     # Set the layout\n",
    "#     my_layout = comm_walktrap.subgraphs()[i].layout_fruchterman_reingold()\n",
    "#     visual_style[\"layout\"] = my_layout\n",
    "\n",
    "#     ig.plot(comm_walktrap.subgraphs()[i],'log_images/directed_images/walktrap_subgraph' + str(i) + '.png' ,vertex_label = comm_walktrap.subgraphs()[i].vs['name'],**visual_style  )\n",
    "    "
   ]
  },
  {
   "cell_type": "markdown",
   "id": "f62a3e13",
   "metadata": {},
   "source": [
    "### Infomap Community Detection"
   ]
  },
  {
   "cell_type": "code",
   "execution_count": null,
   "id": "1a1a32f4",
   "metadata": {},
   "outputs": [],
   "source": [
    "comm_infomap = g.community_infomap(edge_weights = 'weight')\n",
    "\n",
    "ig.plot(comm_infomap, mark_groups = True, layout=\"drl\")"
   ]
  },
  {
   "cell_type": "code",
   "execution_count": null,
   "id": "6bd95521",
   "metadata": {},
   "outputs": [],
   "source": [
    "modularity = g.modularity(comm_infomap, weights='weight')\n",
    "print(modularity)"
   ]
  },
  {
   "cell_type": "code",
   "execution_count": null,
   "id": "e7bda2ef",
   "metadata": {},
   "outputs": [],
   "source": [
    "#get metrics for each community\n",
    "\n",
    "print('average weighted degree: ', get_avg_weighted_degree(comm_infomap))\n",
    "print('average degree: ', get_avg_degree(comm_infomap))\n",
    "print('transitivity: ', get_transitivity(comm_infomap))\n",
    "print('diameter: ', get_diameter(comm_infomap))"
   ]
  },
  {
   "cell_type": "code",
   "execution_count": null,
   "id": "40b5c158",
   "metadata": {},
   "outputs": [],
   "source": [
    "df_infomap = pd.DataFrame({'name': list(g.vs['name']), 'community':comm_infomap.membership } )\n",
    "df_infomap"
   ]
  },
  {
   "cell_type": "markdown",
   "id": "5d316132",
   "metadata": {},
   "source": [
    "# All Jurisdictions"
   ]
  },
  {
   "cell_type": "code",
   "execution_count": null,
   "id": "78a1e0f6",
   "metadata": {},
   "outputs": [],
   "source": [
    "df_weighted['status'].unique()"
   ]
  },
  {
   "cell_type": "code",
   "execution_count": null,
   "id": "bd9d5a18",
   "metadata": {},
   "outputs": [],
   "source": [
    "jurisdiction_list = ['jurisdiction', 'officer_jurisdiction','intermediary jurisdiction']"
   ]
  },
  {
   "cell_type": "code",
   "execution_count": null,
   "id": "59379c4e",
   "metadata": {},
   "outputs": [],
   "source": [
    "df_weighted_jur = df_weighted[df_weighted['status'].isin(jurisdiction_list)]\n",
    "df_jur = df_weighted_jur.drop(['status'], axis = 1)\n",
    "df_jur"
   ]
  },
  {
   "cell_type": "code",
   "execution_count": null,
   "id": "e67e0381",
   "metadata": {},
   "outputs": [],
   "source": [
    "df_jur_grouped = df_jur.groupby(['node_start','node_end'], as_index = False).sum()\n",
    "df_jur_grouped"
   ]
  },
  {
   "cell_type": "code",
   "execution_count": null,
   "id": "559b81a3",
   "metadata": {},
   "outputs": [],
   "source": [
    "df_jur_grouped['log_weights'] = np.log(df_jur_grouped['weight']) + 1\n",
    "df_jur_grouped"
   ]
  },
  {
   "cell_type": "markdown",
   "id": "40ebeb08",
   "metadata": {},
   "source": [
    "### Convert Data to an Undirected Edge List"
   ]
  },
  {
   "cell_type": "code",
   "execution_count": null,
   "id": "ebd95526",
   "metadata": {},
   "outputs": [],
   "source": [
    "# df_jur_grouped_list = df_jur_grouped.values.tolist()\n",
    "# df_jur_grouped_list"
   ]
  },
  {
   "cell_type": "code",
   "execution_count": null,
   "id": "449219a3",
   "metadata": {},
   "outputs": [],
   "source": [
    "# d = collections.defaultdict(int)\n",
    "# for n1, n2, v in df_jur_grouped_list:\n",
    "#     d[min(n1, n2), max(n1, n2)] += v\n",
    "# result = [[k[0], k[1], v] for k, v in d.items()]"
   ]
  },
  {
   "cell_type": "code",
   "execution_count": null,
   "id": "22bd6fea",
   "metadata": {},
   "outputs": [],
   "source": [
    "# df_net = pd.DataFrame(result)\n",
    "# df_net"
   ]
  },
  {
   "cell_type": "code",
   "execution_count": null,
   "id": "0c89a7b8",
   "metadata": {},
   "outputs": [],
   "source": [
    "# df_net = df_net.rename(columns = {0:'node_1', 1:'node_2', 2: 'weight'})\n",
    "# df_net"
   ]
  },
  {
   "cell_type": "code",
   "execution_count": null,
   "id": "a29b947f",
   "metadata": {},
   "outputs": [],
   "source": [
    "#df_net.to_csv('undirected_weighted_grouped.csv', index = False)"
   ]
  },
  {
   "cell_type": "code",
   "execution_count": null,
   "id": "ef3754de",
   "metadata": {},
   "outputs": [],
   "source": [
    "# df_net.describe()"
   ]
  },
  {
   "cell_type": "markdown",
   "id": "3d667c67",
   "metadata": {},
   "source": [
    "## Create Graph"
   ]
  },
  {
   "cell_type": "code",
   "execution_count": null,
   "id": "e6fb3d81",
   "metadata": {},
   "outputs": [],
   "source": [
    "g_aj = ig.Graph.TupleList(df_jur_grouped.itertuples(index=False), directed=True, edge_attrs={'weight': \"log_weights\"})\n"
   ]
  },
  {
   "cell_type": "code",
   "execution_count": null,
   "id": "4f641c07",
   "metadata": {},
   "outputs": [],
   "source": [
    "ig.plot(g_aj)"
   ]
  },
  {
   "cell_type": "code",
   "execution_count": null,
   "id": "108b7bee",
   "metadata": {},
   "outputs": [],
   "source": [
    "g_aj.diameter()"
   ]
  },
  {
   "cell_type": "code",
   "execution_count": null,
   "id": "b79b7349",
   "metadata": {},
   "outputs": [],
   "source": [
    "print( \"Clustering Coefficient: \", g_aj.transitivity_undirected())"
   ]
  },
  {
   "cell_type": "code",
   "execution_count": null,
   "id": "79bcfc98",
   "metadata": {},
   "outputs": [],
   "source": [
    "np.mean(g_aj.degree())"
   ]
  },
  {
   "cell_type": "code",
   "execution_count": null,
   "id": "e86b2d65",
   "metadata": {},
   "outputs": [],
   "source": [
    "np.mean(g_aj.strength(weights = 'weight'))"
   ]
  },
  {
   "cell_type": "code",
   "execution_count": null,
   "id": "1bd19d7b",
   "metadata": {},
   "outputs": [],
   "source": [
    "df_strength = pd.DataFrame({'name': list(g_aj.vs['name']), 'weighted_degree':g_aj.strength(weights = 'weight') } )\n",
    "df_strength = df_strength.sort_values('weighted_degree', ascending = False).reset_index(drop = True)\n",
    "df_strength"
   ]
  },
  {
   "cell_type": "markdown",
   "id": "b0ff96f4",
   "metadata": {},
   "source": [
    "## Community Detection"
   ]
  },
  {
   "cell_type": "markdown",
   "id": "2fc12f7c",
   "metadata": {},
   "source": [
    "### Label Propogation Community Detection"
   ]
  },
  {
   "cell_type": "code",
   "execution_count": null,
   "id": "362c8098",
   "metadata": {},
   "outputs": [],
   "source": [
    "comm_lp_aj= g_aj.community_label_propagation(weights = 'weight')\n",
    "\n",
    "ig.plot(comm_lp_aj, mark_groups = True, layout=\"drl\")"
   ]
  },
  {
   "cell_type": "code",
   "execution_count": null,
   "id": "67a67b7d",
   "metadata": {},
   "outputs": [],
   "source": [
    "modularity = g_aj.modularity(comm_lp_aj, weights='weight')\n",
    "print(modularity)"
   ]
  },
  {
   "cell_type": "code",
   "execution_count": null,
   "id": "d77d0a3d",
   "metadata": {},
   "outputs": [],
   "source": [
    "#get metrics for each community\n",
    "\n",
    "print('average weighted degree: ', get_avg_weighted_degree(comm_lp_aj))\n",
    "print('average degree: ', get_avg_degree(comm_lp_aj))\n",
    "print('transitivity: ', get_transitivity(comm_lp_aj))\n",
    "print('diameter: ', get_diameter(comm_lp_aj))"
   ]
  },
  {
   "cell_type": "markdown",
   "id": "05b24afd",
   "metadata": {},
   "source": [
    "### Leading Eigenvector Community Detection"
   ]
  },
  {
   "cell_type": "code",
   "execution_count": null,
   "id": "7ad53940",
   "metadata": {},
   "outputs": [],
   "source": [
    "comm_leading_eigenvector_aj= g_aj.community_leading_eigenvector(weights = 'weight')\n",
    "\n",
    "ig.plot(comm_leading_eigenvector_aj, mark_groups = True, layout=\"drl\")"
   ]
  },
  {
   "cell_type": "code",
   "execution_count": null,
   "id": "9f93d3b7",
   "metadata": {},
   "outputs": [],
   "source": [
    "modularity = g_aj.modularity(comm_leading_eigenvector_aj, weights='weight')\n",
    "print(modularity)"
   ]
  },
  {
   "cell_type": "code",
   "execution_count": null,
   "id": "868a0afb",
   "metadata": {},
   "outputs": [],
   "source": [
    "#get metrics for each community\n",
    "\n",
    "print('average weighted degree: ', get_avg_weighted_degree(comm_leading_eigenvector_aj))\n",
    "print('average degree: ', get_avg_degree(comm_leading_eigenvector_aj))\n",
    "print('transitivity: ', get_transitivity(comm_leading_eigenvector_aj))\n",
    "print('diameter: ', get_diameter(comm_leading_eigenvector_aj))"
   ]
  },
  {
   "cell_type": "code",
   "execution_count": null,
   "id": "7094be4c",
   "metadata": {},
   "outputs": [],
   "source": [
    "df_leading_eigenvector_aj= pd.DataFrame({'name': list(g_aj.vs['name']), 'community':comm_leading_eigenvector_aj.membership } )\n",
    "df_leading_eigenvector_aj"
   ]
  },
  {
   "cell_type": "code",
   "execution_count": null,
   "id": "9e7a33e2",
   "metadata": {},
   "outputs": [],
   "source": [
    "df_leading_eigenvector_aj.describe()"
   ]
  },
  {
   "cell_type": "code",
   "execution_count": null,
   "id": "34db1629",
   "metadata": {},
   "outputs": [],
   "source": [
    "##plot community\n",
    "visual_style = {}\n",
    "\n",
    "vertex_colors = []\n",
    "\n",
    "for i in range(len(comm_leading_eigenvector_aj.membership)):\n",
    "    vertex_colors.append(colors[comm_leading_eigenvector_aj.membership[i]])\n",
    "    \n",
    "# Set bbox and margin\n",
    "visual_style[\"bbox\"] = (5000,5000)\n",
    "visual_style[\"margin\"] = 17\n",
    "\n",
    "# Set vertex colours\n",
    "visual_style[\"vertex_color\"] = vertex_colors\n",
    "\n",
    "# Set edge width\n",
    "visual_style[\"edge_width\"] = g_aj.es['weight']\n",
    "\n",
    "# Set edge color\n",
    "visual_style[\"edge_color\"] = \"rgba(1,1,1,0.1)\" \n",
    "\n",
    "# Set vertex size\n",
    "visual_style[\"vertex_size\"] = 15\n",
    "\n",
    "# Set vertex label size\n",
    "visual_style[\"vertex_label_size\"] = 20\n",
    "\n",
    "# Set vertex label color\n",
    "visual_style[\"vertex_label_color\"] = 'red'\n",
    "\n",
    "# Don't curve the edges\n",
    "visual_style[\"edge_curved\"] = False\n",
    "\n",
    "# Set the layout\n",
    "my_layout = g_aj.layout_fruchterman_reingold()\n",
    "visual_style[\"layout\"] = my_layout\n",
    "\n",
    "# Plot the graph\n",
    "ig.plot(g_aj,'log_images/directed_all_jur_images/communities_leading_eigenvector.png', vertex_label = g_aj.vs['name'] , **visual_style)"
   ]
  },
  {
   "cell_type": "code",
   "execution_count": null,
   "id": "e21db97c",
   "metadata": {},
   "outputs": [],
   "source": [
    "# Set the layout\n",
    "my_layout = g_aj.layout_circle()\n",
    "visual_style[\"layout\"] = my_layout\n",
    "\n",
    "# Plot the graph\n",
    "ig.plot(g_aj,'log_images/directed_all_jur_images/leading_vector_circular.png', vertex_label = g_aj.vs['name'] , **visual_style)"
   ]
  },
  {
   "cell_type": "code",
   "execution_count": null,
   "id": "dbdeca95",
   "metadata": {},
   "outputs": [],
   "source": [
    "for i in range(len(comm_leading_eigenvector_aj.subgraphs())):\n",
    "    \n",
    "    visual_style[\"bbox\"] = (2000,2000)\n",
    "    visual_style[\"margin\"] = 17\n",
    "    \n",
    "    # Set vertex colours\n",
    "    visual_style[\"vertex_color\"] = 'green'\n",
    "\n",
    "    # Set edge width\n",
    "    visual_style[\"edge_width\"] = (comm_leading_eigenvector_aj.subgraphs()[i].es['weight']\n",
    "    # Set the layout\n",
    "    my_layout = comm_leading_eigenvector_aj.subgraphs()[i].layout_fruchterman_reingold()\n",
    "    visual_style[\"layout\"] = my_layout\n",
    "\n",
    "    ig.plot(comm_leading_eigenvector_aj.subgraphs()[i],'log_images/directed_all_jur_images/leading_eigenvector_subgraph' + str(i) + '.png' ,vertex_label = comm_leading_eigenvector_aj.subgraphs()[i].vs['name'],**visual_style  )\n",
    "    "
   ]
  },
  {
   "cell_type": "markdown",
   "id": "81b1ef73",
   "metadata": {},
   "source": [
    "### Spinglass Community Detection"
   ]
  },
  {
   "cell_type": "code",
   "execution_count": null,
   "id": "5054517d",
   "metadata": {},
   "outputs": [],
   "source": [
    "comm_spinglass_aj = g_aj.community_spinglass(weights = 'weight')\n",
    "\n",
    "ig.plot(comm_spinglass_aj, mark_groups = True, layout=\"drl\")"
   ]
  },
  {
   "cell_type": "code",
   "execution_count": null,
   "id": "e6430180",
   "metadata": {},
   "outputs": [],
   "source": [
    "modularity = g_aj.modularity(comm_spinglass_aj, weights='weight')\n",
    "print(modularity)"
   ]
  },
  {
   "cell_type": "code",
   "execution_count": null,
   "id": "d403e301",
   "metadata": {},
   "outputs": [],
   "source": [
    "#get metrics for each community\n",
    "\n",
    "print('average weighted degree: ', get_avg_weighted_degree(comm_spinglass_aj))\n",
    "print('average degree: ', get_avg_degree(comm_spinglass_aj))\n",
    "print('transitivity: ', get_transitivity(comm_spinglass_aj))\n",
    "print('diameter: ', get_diameter(comm_spinglass_aj))"
   ]
  },
  {
   "cell_type": "code",
   "execution_count": null,
   "id": "5c716091",
   "metadata": {},
   "outputs": [],
   "source": [
    "df_spinglass_aj = pd.DataFrame({'name': list(g_aj.vs['name']), 'community':comm_spinglass_aj.membership } )\n",
    "df_spinglass_aj"
   ]
  },
  {
   "cell_type": "code",
   "execution_count": null,
   "id": "ddc41e06",
   "metadata": {},
   "outputs": [],
   "source": [
    "df_spinglass_aj.describe()"
   ]
  },
  {
   "cell_type": "code",
   "execution_count": null,
   "id": "b02ae3fe",
   "metadata": {},
   "outputs": [],
   "source": [
    "##plot community\n",
    "visual_style = {}\n",
    "\n",
    "vertex_colors = []\n",
    "\n",
    "for i in range(len(comm_spinglass_aj.membership)):\n",
    "    vertex_colors.append(colors[comm_spinglass_aj.membership[i]])\n",
    "    \n",
    "# Set bbox and margin\n",
    "visual_style[\"bbox\"] = (5000,5000)\n",
    "visual_style[\"margin\"] = 17\n",
    "\n",
    "# Set vertex colours\n",
    "visual_style[\"vertex_color\"] = vertex_colors\n",
    "\n",
    "# Set edge width\n",
    "visual_style[\"edge_width\"] = g_aj.es['weight']\n",
    "\n",
    "# Set edge color\n",
    "visual_style[\"edge_color\"] = \"rgba(1,1,1,0.1)\" \n",
    "\n",
    "# Set vertex size\n",
    "visual_style[\"vertex_size\"] = 15\n",
    "\n",
    "# Set vertex label size\n",
    "visual_style[\"vertex_label_size\"] = 20\n",
    "\n",
    "# Set vertex label color\n",
    "visual_style[\"vertex_label_color\"] = 'red'\n",
    "\n",
    "# Don't curve the edges\n",
    "visual_style[\"edge_curved\"] = False\n",
    "\n",
    "# Set the layout\n",
    "my_layout = g_aj.layout_fruchterman_reingold()\n",
    "visual_style[\"layout\"] = my_layout\n",
    "\n",
    "# Plot the graph\n",
    "ig.plot(g_aj,'log_images/directed_all_jur_images/communities_spinglass.png', vertex_label = g_aj.vs['name'] , **visual_style)"
   ]
  },
  {
   "cell_type": "code",
   "execution_count": null,
   "id": "67454ca9",
   "metadata": {},
   "outputs": [],
   "source": [
    "# Set the layout\n",
    "my_layout = g_aj.layout_circle()\n",
    "visual_style[\"layout\"] = my_layout\n",
    "\n",
    "# Plot the graph\n",
    "ig.plot(g_aj,'log_images/directed_all_jur_images/spinglass_circular.png', vertex_label = g_aj.vs['name'] , **visual_style)"
   ]
  },
  {
   "cell_type": "code",
   "execution_count": null,
   "id": "12d8470e",
   "metadata": {},
   "outputs": [],
   "source": [
    "for i in range(len(comm_spinglass_aj.subgraphs())):\n",
    "    \n",
    "    visual_style[\"bbox\"] = (2000,2000)\n",
    "    visual_style[\"margin\"] = 17\n",
    "    \n",
    "    # Set vertex colours\n",
    "    visual_style[\"vertex_color\"] = 'green'\n",
    "\n",
    "    # Set edge width\n",
    "    visual_style[\"edge_width\"] = comm_spinglass_aj.subgraphs()[i].es['weight']\n",
    "    # Set the layout\n",
    "    my_layout = comm_spinglass_aj.subgraphs()[i].layout_fruchterman_reingold()\n",
    "    visual_style[\"layout\"] = my_layout\n",
    "\n",
    "    ig.plot(comm_spinglass_aj.subgraphs()[i],'log_images/directed_all_jur_images/spinglass_subgraph' + str(i) + '.png' ,vertex_label = comm_spinglass_aj.subgraphs()[i].vs['name'],**visual_style  )\n",
    "    "
   ]
  },
  {
   "cell_type": "markdown",
   "id": "061838e2",
   "metadata": {},
   "source": [
    "### Walktrap Community Detection"
   ]
  },
  {
   "cell_type": "code",
   "execution_count": null,
   "id": "d5d73dd8",
   "metadata": {},
   "outputs": [],
   "source": [
    "walktrap_aj = g_aj.community_walktrap(weights = 'weight', steps = 2)\n",
    "\n",
    "comm_walktrap_aj = walktrap_aj.as_clustering()\n",
    "\n",
    "ig.plot(comm_walktrap_aj, mark_groups = True, layout=\"drl\")"
   ]
  },
  {
   "cell_type": "code",
   "execution_count": null,
   "id": "a299c282",
   "metadata": {},
   "outputs": [],
   "source": [
    "modularity = g_aj.modularity(comm_walktrap_aj, weights='weight')\n",
    "print(modularity)"
   ]
  },
  {
   "cell_type": "code",
   "execution_count": null,
   "id": "9eed71f7",
   "metadata": {},
   "outputs": [],
   "source": [
    "#get metrics for each community\n",
    "\n",
    "print('average weighted degree: ', get_avg_weighted_degree(comm_walktrap_aj))\n",
    "print('average degree: ', get_avg_degree(comm_walktrap_aj))\n",
    "print('transitivity: ', get_transitivity(comm_walktrap_aj))\n",
    "print('diameter: ', get_diameter(comm_walktrap_aj))"
   ]
  },
  {
   "cell_type": "code",
   "execution_count": null,
   "id": "d12d6234",
   "metadata": {},
   "outputs": [],
   "source": [
    "df_walktrap_aj = pd.DataFrame({'name': list(g_aj.vs['name']), 'community':comm_walktrap_aj.membership } )\n",
    "df_walktrap_aj"
   ]
  },
  {
   "cell_type": "code",
   "execution_count": null,
   "id": "a6aa7feb",
   "metadata": {},
   "outputs": [],
   "source": [
    "df_walktrap_aj.describe()"
   ]
  },
  {
   "cell_type": "code",
   "execution_count": null,
   "id": "294ad6b2",
   "metadata": {},
   "outputs": [],
   "source": [
    "# ##plot community\n",
    "# visual_style = {}\n",
    "\n",
    "# vertex_colors = []\n",
    "\n",
    "# for i in range(len(comm_walktrap_aj.membership)):\n",
    "#     vertex_colors.append(colors[comm_walktrap_aj.membership[i]])\n",
    "    \n",
    "# # Set bbox and margin\n",
    "# visual_style[\"bbox\"] = (5000,5000)\n",
    "# visual_style[\"margin\"] = 17\n",
    "\n",
    "# # Set vertex colours\n",
    "# visual_style[\"vertex_color\"] = vertex_colors\n",
    "\n",
    "# # Set edge width\n",
    "# visual_style[\"edge_width\"] = g_aj.es['weight']\n",
    "\n",
    "# # Set edge color\n",
    "# visual_style[\"edge_color\"] = \"rgba(1,1,1,0.1)\" \n",
    "\n",
    "# # Set vertex size\n",
    "# visual_style[\"vertex_size\"] = 15\n",
    "\n",
    "# # Set vertex label size\n",
    "# visual_style[\"vertex_label_size\"] = 20\n",
    "\n",
    "# # Set vertex label color\n",
    "# visual_style[\"vertex_label_color\"] = 'red'\n",
    "\n",
    "# # Don't curve the edges\n",
    "# visual_style[\"edge_curved\"] = False\n",
    "\n",
    "# # Set the layout\n",
    "# my_layout = g_aj.layout_fruchterman_reingold()\n",
    "# visual_style[\"layout\"] = my_layout\n",
    "\n",
    "# # Plot the graph\n",
    "# ig.plot(g_aj,'log_images/directed_all_jur_images/communities_walktrap.png', vertex_label = g_aj.vs['name'] , **visual_style)"
   ]
  },
  {
   "cell_type": "code",
   "execution_count": null,
   "id": "5e2fbb58",
   "metadata": {},
   "outputs": [],
   "source": [
    "# # Set the layout\n",
    "# my_layout = g.layout_circle()\n",
    "# visual_style[\"layout\"] = my_layout\n",
    "\n",
    "# # Plot the graph\n",
    "# ig.plot(g_aj,'log_images/directed_all_jur_images/walktrap_circular.png', vertex_label = g_aj.vs['name'] , **visual_style)"
   ]
  },
  {
   "cell_type": "code",
   "execution_count": null,
   "id": "69ba35f0",
   "metadata": {},
   "outputs": [],
   "source": [
    "# for i in range(len(comm_walktrap_aj.subgraphs())):\n",
    "    \n",
    "#     visual_style[\"bbox\"] = (2000,2000)\n",
    "#     visual_style[\"margin\"] = 17\n",
    "    \n",
    "#     # Set vertex colours\n",
    "#     visual_style[\"vertex_color\"] = 'green'\n",
    "\n",
    "#     # Set edge width\n",
    "#     visual_style[\"edge_width\"] = comm_walktrap_aj.subgraphs()[i].es['weight']\n",
    "#     # Set the layout\n",
    "#     my_layout = comm_walktrap_aj.subgraphs()[i].layout_fruchterman_reingold()\n",
    "#     visual_style[\"layout\"] = my_layout\n",
    "\n",
    "#     ig.plot(comm_walktrap_aj.subgraphs()[i],'log_images/directed_all_jur_images/walktrap_subgraph' + str(i) + '.png' ,vertex_label = comm_walktrap_aj.subgraphs()[i].vs['name'],**visual_style  )\n",
    "    "
   ]
  },
  {
   "cell_type": "markdown",
   "id": "b7097b0b",
   "metadata": {},
   "source": [
    "### Infomap Community Detection"
   ]
  },
  {
   "cell_type": "code",
   "execution_count": null,
   "id": "58cb5a53",
   "metadata": {},
   "outputs": [],
   "source": [
    "comm_infomap_aj = g_aj.community_infomap(edge_weights = 'weight')\n",
    "\n",
    "ig.plot(comm_infomap_aj, mark_groups = True, layout=\"drl\")"
   ]
  },
  {
   "cell_type": "code",
   "execution_count": null,
   "id": "2f7a1e32",
   "metadata": {},
   "outputs": [],
   "source": [
    "modularity = g_aj.modularity(comm_infomap_aj, weights='weight')\n",
    "print(modularity)"
   ]
  },
  {
   "cell_type": "code",
   "execution_count": null,
   "id": "ec2de9d3",
   "metadata": {},
   "outputs": [],
   "source": [
    "#get metrics for each community\n",
    "\n",
    "print('average weighted degree: ', get_avg_weighted_degree(comm_infomap_aj))\n",
    "print('average degree: ', get_avg_degree(comm_infomap_aj))\n",
    "print('transitivity: ', get_transitivity(comm_infomap_aj))\n",
    "print('diameter: ', get_diameter(comm_infomap_aj))"
   ]
  },
  {
   "cell_type": "code",
   "execution_count": null,
   "id": "fab02c41",
   "metadata": {},
   "outputs": [],
   "source": [
    "df_infomap_aj = pd.DataFrame({'name': list(g_aj.vs['name']), 'community':comm_infomap_aj.membership } )\n",
    "df_infomap_aj"
   ]
  },
  {
   "cell_type": "markdown",
   "id": "f9f13de6",
   "metadata": {},
   "source": [
    "# Only Jurisdiction"
   ]
  },
  {
   "cell_type": "code",
   "execution_count": null,
   "id": "b7169c22",
   "metadata": {},
   "outputs": [],
   "source": [
    "df_weighted['status'].unique()"
   ]
  },
  {
   "cell_type": "code",
   "execution_count": null,
   "id": "18840d2c",
   "metadata": {},
   "outputs": [],
   "source": [
    "jurisdiction_list = ['jurisdiction']"
   ]
  },
  {
   "cell_type": "code",
   "execution_count": null,
   "id": "1fcc98c7",
   "metadata": {},
   "outputs": [],
   "source": [
    "df_weighted_jur = df_weighted[df_weighted['status'].isin(jurisdiction_list)]\n",
    "df_jur = df_weighted_jur.drop(['status'], axis = 1)\n",
    "df_jur"
   ]
  },
  {
   "cell_type": "code",
   "execution_count": null,
   "id": "cfe1ed14",
   "metadata": {},
   "outputs": [],
   "source": [
    "df_jur_grouped = df_jur.groupby(['node_start','node_end'], as_index = False).sum()\n",
    "df_jur_grouped"
   ]
  },
  {
   "cell_type": "code",
   "execution_count": null,
   "id": "1e1a391e",
   "metadata": {},
   "outputs": [],
   "source": [
    "df_jur_grouped['log_weights'] = np.log(df_jur_grouped['weight']) + 1\n",
    "df_jur_grouped"
   ]
  },
  {
   "cell_type": "markdown",
   "id": "9be85a6f",
   "metadata": {},
   "source": [
    "### Convert Data to an Undirected Edge List"
   ]
  },
  {
   "cell_type": "code",
   "execution_count": null,
   "id": "0ea61791",
   "metadata": {},
   "outputs": [],
   "source": [
    "# df_jur_grouped_list = df_jur_grouped.values.tolist()\n",
    "# df_jur_grouped_list"
   ]
  },
  {
   "cell_type": "code",
   "execution_count": null,
   "id": "7a199967",
   "metadata": {},
   "outputs": [],
   "source": [
    "# d = collections.defaultdict(int)\n",
    "# for n1, n2, v in df_jur_grouped_list:\n",
    "#     d[min(n1, n2), max(n1, n2)] += v\n",
    "# result = [[k[0], k[1], v] for k, v in d.items()]"
   ]
  },
  {
   "cell_type": "code",
   "execution_count": null,
   "id": "3f06e94f",
   "metadata": {},
   "outputs": [],
   "source": [
    "# df_net = pd.DataFrame(result)\n",
    "# df_net"
   ]
  },
  {
   "cell_type": "code",
   "execution_count": null,
   "id": "8f2a4d5c",
   "metadata": {},
   "outputs": [],
   "source": [
    "# df_net = df_net.rename(columns = {0:'node_1', 1:'node_2', 2: 'weight'})\n",
    "# df_net"
   ]
  },
  {
   "cell_type": "code",
   "execution_count": null,
   "id": "a9b1f9be",
   "metadata": {},
   "outputs": [],
   "source": [
    "#df_net.to_csv('undirected_weighted_grouped.csv', index = False)"
   ]
  },
  {
   "cell_type": "code",
   "execution_count": null,
   "id": "aaa44d28",
   "metadata": {},
   "outputs": [],
   "source": [
    "# df_net.describe()"
   ]
  },
  {
   "cell_type": "markdown",
   "id": "6c2998ba",
   "metadata": {},
   "source": [
    "## Create Graph"
   ]
  },
  {
   "cell_type": "code",
   "execution_count": null,
   "id": "fe2ab7e4",
   "metadata": {},
   "outputs": [],
   "source": [
    "g_j = ig.Graph.TupleList(df_jur_grouped.itertuples(index=False), directed=True, edge_attrs={'weight': \"log_weights\"})\n"
   ]
  },
  {
   "cell_type": "code",
   "execution_count": null,
   "id": "f5ed05b8",
   "metadata": {},
   "outputs": [],
   "source": [
    "ig.plot(g_j)"
   ]
  },
  {
   "cell_type": "code",
   "execution_count": null,
   "id": "19e58fa1",
   "metadata": {},
   "outputs": [],
   "source": [
    "g_j.diameter()"
   ]
  },
  {
   "cell_type": "code",
   "execution_count": null,
   "id": "365e6dc1",
   "metadata": {},
   "outputs": [],
   "source": [
    "print( \"Clustering Coefficient: \", g_j.transitivity_undirected())"
   ]
  },
  {
   "cell_type": "code",
   "execution_count": null,
   "id": "acc5f9ff",
   "metadata": {},
   "outputs": [],
   "source": [
    "np.mean(g_j.degree())"
   ]
  },
  {
   "cell_type": "code",
   "execution_count": null,
   "id": "cbd6f8b2",
   "metadata": {},
   "outputs": [],
   "source": [
    "np.mean(g_j.strength(weights = 'weight'))"
   ]
  },
  {
   "cell_type": "code",
   "execution_count": null,
   "id": "fbf2766e",
   "metadata": {},
   "outputs": [],
   "source": [
    "df_strength = pd.DataFrame({'name': list(g_j.vs['name']), 'weighted_degree':g_j.strength(weights = 'weight') } )\n",
    "df_strength = df_strength.sort_values('weighted_degree', ascending = False).reset_index(drop = True)\n",
    "df_strength"
   ]
  },
  {
   "cell_type": "markdown",
   "id": "81155c64",
   "metadata": {},
   "source": [
    "## Community Detection"
   ]
  },
  {
   "cell_type": "markdown",
   "id": "31abaeb9",
   "metadata": {},
   "source": [
    "### Label Propogation Community Detection"
   ]
  },
  {
   "cell_type": "code",
   "execution_count": null,
   "id": "3385eede",
   "metadata": {},
   "outputs": [],
   "source": [
    "comm_lp_j= g_j.community_label_propagation(weights = 'weight')\n",
    "\n",
    "ig.plot(comm_lp_j, mark_groups = True, layout=\"drl\")"
   ]
  },
  {
   "cell_type": "code",
   "execution_count": null,
   "id": "24aeb320",
   "metadata": {},
   "outputs": [],
   "source": [
    "modularity = g_j.modularity(comm_lp_j, weights='weight')\n",
    "print(modularity)"
   ]
  },
  {
   "cell_type": "code",
   "execution_count": null,
   "id": "795965be",
   "metadata": {},
   "outputs": [],
   "source": [
    "#get metrics for each community\n",
    "\n",
    "print('average weighted degree: ', get_avg_weighted_degree(comm_lp_j))\n",
    "print('average degree: ', get_avg_degree(comm_lp_j))\n",
    "print('transitivity: ', get_transitivity(comm_lp_j))\n",
    "print('diameter: ', get_diameter(comm_lp_j))"
   ]
  },
  {
   "cell_type": "markdown",
   "id": "5d8d322a",
   "metadata": {},
   "source": [
    "### Leading Eigenvector Community Detection"
   ]
  },
  {
   "cell_type": "code",
   "execution_count": null,
   "id": "cf1488ca",
   "metadata": {},
   "outputs": [],
   "source": [
    "comm_leading_eigenvector_j= g_j.community_leading_eigenvector(weights = 'weight')\n",
    "\n",
    "ig.plot(comm_leading_eigenvector_j, mark_groups = True, layout=\"drl\")"
   ]
  },
  {
   "cell_type": "code",
   "execution_count": null,
   "id": "4fa167ed",
   "metadata": {},
   "outputs": [],
   "source": [
    "modularity = g_j.modularity(comm_leading_eigenvector_j, weights='weight')\n",
    "print(modularity)"
   ]
  },
  {
   "cell_type": "code",
   "execution_count": null,
   "id": "d9c3f333",
   "metadata": {},
   "outputs": [],
   "source": [
    "#get metrics for each community\n",
    "\n",
    "print('average weighted degree: ', get_avg_weighted_degree(comm_leading_eigenvector_j))\n",
    "print('average degree: ', get_avg_degree(comm_leading_eigenvector_j))\n",
    "print('transitivity: ', get_transitivity(comm_leading_eigenvector_j))\n",
    "print('diameter: ', get_diameter(comm_leading_eigenvector_j))"
   ]
  },
  {
   "cell_type": "code",
   "execution_count": null,
   "id": "ce6f75f7",
   "metadata": {},
   "outputs": [],
   "source": [
    "df_leading_eigenvector_j= pd.DataFrame({'name': list(g_j.vs['name']), 'community':comm_leading_eigenvector_j.membership } )\n",
    "df_leading_eigenvector_j"
   ]
  },
  {
   "cell_type": "code",
   "execution_count": null,
   "id": "1015b2f8",
   "metadata": {},
   "outputs": [],
   "source": [
    "df_leading_eigenvector_j.describe()"
   ]
  },
  {
   "cell_type": "code",
   "execution_count": null,
   "id": "e49a5f29",
   "metadata": {},
   "outputs": [],
   "source": [
    "##plot community\n",
    "visual_style = {}\n",
    "\n",
    "vertex_colors = []\n",
    "\n",
    "for i in range(len(comm_leading_eigenvector_j.membership)):\n",
    "    vertex_colors.append(colors[comm_leading_eigenvector_j.membership[i]])\n",
    "    \n",
    "# Set bbox and margin\n",
    "visual_style[\"bbox\"] = (5000,5000)\n",
    "visual_style[\"margin\"] = 17\n",
    "\n",
    "# Set vertex colours\n",
    "visual_style[\"vertex_color\"] = vertex_colors\n",
    "\n",
    "# Set edge width\n",
    "visual_style[\"edge_width\"] = g_j.es['weight']\n",
    "\n",
    "# Set edge color\n",
    "visual_style[\"edge_color\"] = \"rgba(1,1,1,0.1)\" \n",
    "\n",
    "# Set vertex size\n",
    "visual_style[\"vertex_size\"] = 15\n",
    "\n",
    "# Set vertex label size\n",
    "visual_style[\"vertex_label_size\"] = 20\n",
    "\n",
    "# Set vertex label color\n",
    "visual_style[\"vertex_label_color\"] = 'red'\n",
    "\n",
    "# Don't curve the edges\n",
    "visual_style[\"edge_curved\"] = False\n",
    "\n",
    "# Set the layout\n",
    "my_layout = g_j.layout_fruchterman_reingold()\n",
    "visual_style[\"layout\"] = my_layout\n",
    "\n",
    "# Plot the graph\n",
    "ig.plot(g_j,'log_imagesdirected_all_jur_images/communities_leading_eigenvector.png', vertex_label = g_j.vs['name'] , **visual_style)"
   ]
  },
  {
   "cell_type": "code",
   "execution_count": null,
   "id": "c856f6bf",
   "metadata": {},
   "outputs": [],
   "source": [
    "# Set the layout\n",
    "my_layout = g_j.layout_circle()\n",
    "visual_style[\"layout\"] = my_layout\n",
    "\n",
    "# Plot the graph\n",
    "ig.plot(g_j,'log_images/directed_all_jur_images/leading_vector_circular.png', vertex_label = g_j.vs['name'] , **visual_style)"
   ]
  },
  {
   "cell_type": "code",
   "execution_count": null,
   "id": "78ab96da",
   "metadata": {},
   "outputs": [],
   "source": [
    "for i in range(len(comm_leading_eigenvector_j.subgraphs())):\n",
    "    \n",
    "    visual_style[\"bbox\"] = (2000,2000)\n",
    "    visual_style[\"margin\"] = 17\n",
    "    \n",
    "    # Set vertex colours\n",
    "    visual_style[\"vertex_color\"] = 'green'\n",
    "\n",
    "    # Set edge width\n",
    "    visual_style[\"edge_width\"] = comm_leading_eigenvector_j.subgraphs()[i].es['weight']\n",
    "    # Set the layout\n",
    "    my_layout = comm_leading_eigenvector_j.subgraphs()[i].layout_fruchterman_reingold()\n",
    "    visual_style[\"layout\"] = my_layout\n",
    "\n",
    "    ig.plot(comm_leading_eigenvector_j.subgraphs()[i],'log_images/directed_all_jur_images/leading_eigenvector_subgraph' + str(i) + '.png' ,vertex_label = comm_leading_eigenvector_j.subgraphs()[i].vs['name'],**visual_style  )\n",
    "    "
   ]
  },
  {
   "cell_type": "markdown",
   "id": "db1318e9",
   "metadata": {},
   "source": [
    "### Spinglass Community Detection"
   ]
  },
  {
   "cell_type": "code",
   "execution_count": null,
   "id": "02f96c0e",
   "metadata": {},
   "outputs": [],
   "source": [
    "comm_spinglass_j = g_j.community_spinglass(weights = 'weight')\n",
    "\n",
    "ig.plot(comm_spinglass_j, mark_groups = True, layout=\"drl\")"
   ]
  },
  {
   "cell_type": "code",
   "execution_count": null,
   "id": "dcafc77b",
   "metadata": {},
   "outputs": [],
   "source": [
    "modularity = g_j.modularity(comm_spinglass_j, weights='weight')\n",
    "print(modularity)"
   ]
  },
  {
   "cell_type": "code",
   "execution_count": null,
   "id": "a3295207",
   "metadata": {},
   "outputs": [],
   "source": [
    "#get metrics for each community\n",
    "\n",
    "print('average weighted degree: ', get_avg_weighted_degree(comm_spinglass_j))\n",
    "print('average degree: ', get_avg_degree(comm_spinglass_j))\n",
    "print('transitivity: ', get_transitivity(comm_spinglass_j))\n",
    "print('diameter: ', get_diameter(comm_spinglass_j))"
   ]
  },
  {
   "cell_type": "code",
   "execution_count": null,
   "id": "8c0b8b47",
   "metadata": {},
   "outputs": [],
   "source": [
    "df_spinglass_j = pd.DataFrame({'name': list(g_j.vs['name']), 'community':comm_spinglass_j.membership } )\n",
    "df_spinglass_j"
   ]
  },
  {
   "cell_type": "code",
   "execution_count": null,
   "id": "65b6282b",
   "metadata": {},
   "outputs": [],
   "source": [
    "df_spinglass_j.describe()"
   ]
  },
  {
   "cell_type": "code",
   "execution_count": null,
   "id": "18b9d75a",
   "metadata": {},
   "outputs": [],
   "source": [
    "##plot community\n",
    "visual_style = {}\n",
    "\n",
    "vertex_colors = []\n",
    "\n",
    "for i in range(len(comm_spinglass_j.membership)):\n",
    "    vertex_colors.append(colors[comm_spinglass_j.membership[i]])\n",
    "    \n",
    "# Set bbox and margin\n",
    "visual_style[\"bbox\"] = (5000,5000)\n",
    "visual_style[\"margin\"] = 17\n",
    "\n",
    "# Set vertex colours\n",
    "visual_style[\"vertex_color\"] = vertex_colors\n",
    "\n",
    "# Set edge width\n",
    "visual_style[\"edge_width\"] = np.log(g_j.es['weight']) + 1\n",
    "\n",
    "# Set edge color\n",
    "visual_style[\"edge_color\"] = \"rgba(1,1,1,0.1)\" \n",
    "\n",
    "# Set vertex size\n",
    "visual_style[\"vertex_size\"] = 15\n",
    "\n",
    "# Set vertex label size\n",
    "visual_style[\"vertex_label_size\"] = 20\n",
    "\n",
    "# Set vertex label color\n",
    "visual_style[\"vertex_label_color\"] = 'red'\n",
    "\n",
    "# Don't curve the edges\n",
    "visual_style[\"edge_curved\"] = False\n",
    "\n",
    "# Set the layout\n",
    "my_layout = g_j.layout_fruchterman_reingold()\n",
    "visual_style[\"layout\"] = my_layout\n",
    "\n",
    "# Plot the graph\n",
    "ig.plot(g_j,'log_images/directed_all_jur_images/communities_spinglass.png', vertex_label = g_j.vs['name'] , **visual_style)"
   ]
  },
  {
   "cell_type": "code",
   "execution_count": null,
   "id": "bd7af012",
   "metadata": {},
   "outputs": [],
   "source": [
    "# Set the layout\n",
    "my_layout = g_j.layout_circle()\n",
    "visual_style[\"layout\"] = my_layout\n",
    "\n",
    "# Plot the graph\n",
    "ig.plot(g_j,'log_images/directed_all_jur_images/spinglass_circular.png', vertex_label = g_j.vs['name'] , **visual_style)"
   ]
  },
  {
   "cell_type": "code",
   "execution_count": null,
   "id": "b01730ca",
   "metadata": {},
   "outputs": [],
   "source": [
    "for i in range(len(comm_spinglass_j.subgraphs())):\n",
    "    \n",
    "    visual_style[\"bbox\"] = (2000,2000)\n",
    "    visual_style[\"margin\"] = 17\n",
    "    \n",
    "    # Set vertex colours\n",
    "    visual_style[\"vertex_color\"] = 'green'\n",
    "\n",
    "    # Set edge width\n",
    "    visual_style[\"edge_width\"] = comm_spinglass_j.subgraphs()[i].es['weight']\n",
    "    # Set the layout\n",
    "    my_layout = comm_spinglass_j.subgraphs()[i].layout_fruchterman_reingold()\n",
    "    visual_style[\"layout\"] = my_layout\n",
    "\n",
    "    ig.plot(comm_spinglass_j.subgraphs()[i],'log_images/directed_all_jur_images/spinglass_subgraph' + str(i) + '.png' ,vertex_label = comm_spinglass_j.subgraphs()[i].vs['name'],**visual_style  )\n",
    "    "
   ]
  },
  {
   "cell_type": "markdown",
   "id": "d2b60834",
   "metadata": {},
   "source": [
    "### Walktrap Community Detection"
   ]
  },
  {
   "cell_type": "code",
   "execution_count": null,
   "id": "8b3e6552",
   "metadata": {},
   "outputs": [],
   "source": [
    "walktrap_j = g_j.community_walktrap(weights = 'weight', steps = 2)\n",
    "\n",
    "comm_walktrap_j = walktrap_j.as_clustering()\n",
    "\n",
    "ig.plot(comm_walktrap_j, mark_groups = True, layout=\"drl\")"
   ]
  },
  {
   "cell_type": "code",
   "execution_count": null,
   "id": "2cd468f5",
   "metadata": {},
   "outputs": [],
   "source": [
    "modularity = g_j.modularity(comm_walktrap_j, weights='weight')\n",
    "print(modularity)"
   ]
  },
  {
   "cell_type": "code",
   "execution_count": null,
   "id": "4227a598",
   "metadata": {},
   "outputs": [],
   "source": [
    "#get metrics for each community\n",
    "\n",
    "print('average weighted degree: ', get_avg_weighted_degree(comm_walktrap_j))\n",
    "print('average degree: ', get_avg_degree(comm_walktrap_j))\n",
    "print('transitivity: ', get_transitivity(comm_walktrap_j))\n",
    "print('diameter: ', get_diameter(comm_walktrap_j))"
   ]
  },
  {
   "cell_type": "code",
   "execution_count": null,
   "id": "24c7a1cc",
   "metadata": {},
   "outputs": [],
   "source": [
    "df_walktrap_j = pd.DataFrame({'name': list(g_j.vs['name']), 'community':comm_walktrap_j.membership } )\n",
    "df_walktrap_j"
   ]
  },
  {
   "cell_type": "code",
   "execution_count": null,
   "id": "7905cca5",
   "metadata": {},
   "outputs": [],
   "source": [
    "df_walktrap_j.describe()"
   ]
  },
  {
   "cell_type": "code",
   "execution_count": null,
   "id": "201d6d5b",
   "metadata": {},
   "outputs": [],
   "source": [
    "# ##plot community\n",
    "# visual_style = {}\n",
    "\n",
    "# vertex_colors = []\n",
    "\n",
    "# for i in range(len(comm_walktrap_j.membership)):\n",
    "#     vertex_colors.append(colors[comm_walktrap_j.membership[i]])\n",
    "    \n",
    "# # Set bbox and margin\n",
    "# visual_style[\"bbox\"] = (5000,5000)\n",
    "# visual_style[\"margin\"] = 17\n",
    "\n",
    "# # Set vertex colours\n",
    "# visual_style[\"vertex_color\"] = vertex_colors\n",
    "\n",
    "# # Set edge width\n",
    "# visual_style[\"edge_width\"] = g_j.es['weight']\n",
    "\n",
    "# # Set edge color\n",
    "# visual_style[\"edge_color\"] = \"rgba(1,1,1,0.1)\" \n",
    "\n",
    "# # Set vertex size\n",
    "# visual_style[\"vertex_size\"] = 15\n",
    "\n",
    "# # Set vertex label size\n",
    "# visual_style[\"vertex_label_size\"] = 20\n",
    "\n",
    "# # Set vertex label color\n",
    "# visual_style[\"vertex_label_color\"] = 'red'\n",
    "\n",
    "# # Don't curve the edges\n",
    "# visual_style[\"edge_curved\"] = False\n",
    "\n",
    "# # Set the layout\n",
    "# my_layout = g_j.layout_fruchterman_reingold()\n",
    "# visual_style[\"layout\"] = my_layout\n",
    "\n",
    "# # Plot the graph\n",
    "# ig.plot(g_j,'log_images/directed_all_jur_images/communities_walktrap.png', vertex_label = g_j.vs['name'] , **visual_style)"
   ]
  },
  {
   "cell_type": "code",
   "execution_count": null,
   "id": "c4280be9",
   "metadata": {},
   "outputs": [],
   "source": [
    "# # Set the layout\n",
    "# my_layout = g_j.layout_circle()\n",
    "# visual_style[\"layout\"] = my_layout\n",
    "\n",
    "# # Plot the graph\n",
    "# ig.plot(g_j,'log_images/directed_all_jur_images/walktrap_circular.png', vertex_label = g_j.vs['name'] , **visual_style)"
   ]
  },
  {
   "cell_type": "code",
   "execution_count": null,
   "id": "9825aeae",
   "metadata": {},
   "outputs": [],
   "source": [
    "# for i in range(len(comm_walktrap_j.subgraphs())):\n",
    "    \n",
    "#     visual_style[\"bbox\"] = (2000,2000)\n",
    "#     visual_style[\"margin\"] = 17\n",
    "    \n",
    "#     # Set vertex colours\n",
    "#     visual_style[\"vertex_color\"] = 'green'\n",
    "\n",
    "#     # Set edge width\n",
    "#     visual_style[\"edge_width\"] = comm_walktrap_j.subgraphs()[i].es['weight']\n",
    "#     # Set the layout\n",
    "#     my_layout = comm_walktrap_j.subgraphs()[i].layout_fruchterman_reingold()\n",
    "#     visual_style[\"layout\"] = my_layout\n",
    "\n",
    "#     ig.plot(comm_walktrap_j.subgraphs()[i],'log_images/directed_all_jur_images/walktrap_subgraph' + str(i) + '.png' ,vertex_label = comm_walktrap_j.subgraphs()[i].vs['name'],**visual_style  )\n",
    "    "
   ]
  },
  {
   "cell_type": "markdown",
   "id": "70cf3d42",
   "metadata": {},
   "source": [
    "### Infomap Community Detection"
   ]
  },
  {
   "cell_type": "code",
   "execution_count": null,
   "id": "0faaa15f",
   "metadata": {},
   "outputs": [],
   "source": [
    "comm_infomap_j = g_j.community_infomap(edge_weights = 'weight')\n",
    "\n",
    "ig.plot(comm_infomap_j, mark_groups = True, layout=\"drl\")"
   ]
  },
  {
   "cell_type": "code",
   "execution_count": null,
   "id": "620532d5",
   "metadata": {},
   "outputs": [],
   "source": [
    "modularity = g_j.modularity(comm_infomap_j, weights='weight')\n",
    "print(modularity)"
   ]
  },
  {
   "cell_type": "code",
   "execution_count": null,
   "id": "23f66a03",
   "metadata": {},
   "outputs": [],
   "source": [
    "#get metrics for each community\n",
    "\n",
    "print('average weighted degree: ', get_avg_weighted_degree(comm_infomap_j))\n",
    "print('average degree: ', get_avg_degree(comm_infomap_j))\n",
    "print('transitivity: ', get_transitivity(comm_infomap_j))\n",
    "print('diameter: ', get_diameter(comm_infomap_j))"
   ]
  },
  {
   "cell_type": "code",
   "execution_count": null,
   "id": "19e1a9e1",
   "metadata": {},
   "outputs": [],
   "source": [
    "df_infomap_j = pd.DataFrame({'name': list(g_j.vs['name']), 'community':comm_infomap_j.membership } )\n",
    "df_infomap_j"
   ]
  },
  {
   "cell_type": "markdown",
   "id": "db4154d1",
   "metadata": {},
   "source": [
    "# Officer Jurisdiction"
   ]
  },
  {
   "cell_type": "code",
   "execution_count": null,
   "id": "1edd19ed",
   "metadata": {},
   "outputs": [],
   "source": [
    "df_weighted['status'].unique()"
   ]
  },
  {
   "cell_type": "code",
   "execution_count": null,
   "id": "e0b3edb4",
   "metadata": {},
   "outputs": [],
   "source": [
    "jurisdiction_list = ['officer_jurisdiction']"
   ]
  },
  {
   "cell_type": "code",
   "execution_count": null,
   "id": "b7dc1ec8",
   "metadata": {},
   "outputs": [],
   "source": [
    "df_weighted_jur = df_weighted[df_weighted['status'].isin(jurisdiction_list)]\n",
    "df_jur = df_weighted_jur.drop(['status'], axis = 1)\n",
    "df_jur"
   ]
  },
  {
   "cell_type": "code",
   "execution_count": null,
   "id": "2ebd7a5d",
   "metadata": {},
   "outputs": [],
   "source": [
    "df_jur_grouped = df_jur.groupby(['node_start','node_end'], as_index = False).sum()\n",
    "df_jur_grouped"
   ]
  },
  {
   "cell_type": "code",
   "execution_count": null,
   "id": "f12a3271",
   "metadata": {},
   "outputs": [],
   "source": [
    "df_jur_grouped['log_weights'] = np.log(df_jur_grouped['weight']) + 1\n",
    "df_jur_grouped"
   ]
  },
  {
   "cell_type": "markdown",
   "id": "3aca6c30",
   "metadata": {},
   "source": [
    "### Convert Data to an Undirected Edge List"
   ]
  },
  {
   "cell_type": "code",
   "execution_count": null,
   "id": "6204c7ad",
   "metadata": {},
   "outputs": [],
   "source": [
    "# df_jur_grouped_list = df_jur_grouped.values.tolist()\n",
    "# df_jur_grouped_list"
   ]
  },
  {
   "cell_type": "code",
   "execution_count": null,
   "id": "a15035ff",
   "metadata": {},
   "outputs": [],
   "source": [
    "# d = collections.defaultdict(int)\n",
    "# for n1, n2, v in df_jur_grouped_list:\n",
    "#     d[min(n1, n2), max(n1, n2)] += v\n",
    "# result = [[k[0], k[1], v] for k, v in d.items()]"
   ]
  },
  {
   "cell_type": "code",
   "execution_count": null,
   "id": "c4a07e60",
   "metadata": {},
   "outputs": [],
   "source": [
    "# df_net = pd.DataFrame(result)\n",
    "# df_net"
   ]
  },
  {
   "cell_type": "code",
   "execution_count": null,
   "id": "3dfd94bb",
   "metadata": {},
   "outputs": [],
   "source": [
    "# df_net = df_net.rename(columns = {0:'node_1', 1:'node_2', 2: 'weight'})\n",
    "# df_net"
   ]
  },
  {
   "cell_type": "code",
   "execution_count": null,
   "id": "92c5c38a",
   "metadata": {},
   "outputs": [],
   "source": [
    "#df_net.to_csv('undirected_weighted_grouped.csv', index = False)"
   ]
  },
  {
   "cell_type": "code",
   "execution_count": null,
   "id": "ae7141c1",
   "metadata": {},
   "outputs": [],
   "source": [
    "# df_net.describe()"
   ]
  },
  {
   "cell_type": "markdown",
   "id": "a419dc1a",
   "metadata": {},
   "source": [
    "## Create Graph"
   ]
  },
  {
   "cell_type": "code",
   "execution_count": null,
   "id": "164560b9",
   "metadata": {},
   "outputs": [],
   "source": [
    "g_oj = ig.Graph.TupleList(df_jur_grouped.itertuples(index=False), directed=True, edge_attrs={'weight': \"log_weights\"})\n"
   ]
  },
  {
   "cell_type": "code",
   "execution_count": null,
   "id": "86cdab6c",
   "metadata": {},
   "outputs": [],
   "source": [
    "ig.plot(g_oj)"
   ]
  },
  {
   "cell_type": "code",
   "execution_count": null,
   "id": "bf2b32c3",
   "metadata": {},
   "outputs": [],
   "source": [
    "g_oj.diameter()"
   ]
  },
  {
   "cell_type": "code",
   "execution_count": null,
   "id": "52f89839",
   "metadata": {},
   "outputs": [],
   "source": [
    "print( \"Clustering Coefficient: \", g_oj.transitivity_undirected())"
   ]
  },
  {
   "cell_type": "code",
   "execution_count": null,
   "id": "fae95bb0",
   "metadata": {},
   "outputs": [],
   "source": [
    "np.mean(g_oj.degree())"
   ]
  },
  {
   "cell_type": "code",
   "execution_count": null,
   "id": "00015304",
   "metadata": {},
   "outputs": [],
   "source": [
    "np.mean(g_oj.strength(weights = 'weight'))"
   ]
  },
  {
   "cell_type": "code",
   "execution_count": null,
   "id": "f73659a0",
   "metadata": {},
   "outputs": [],
   "source": [
    "df_strength = pd.DataFrame({'name': list(g_oj.vs['name']), 'weighted_degree':g_oj.strength(weights = 'weight') } )\n",
    "df_strength = df_strength.sort_values('weighted_degree', ascending = False).reset_index(drop = True)\n",
    "df_strength"
   ]
  },
  {
   "cell_type": "markdown",
   "id": "6852cdce",
   "metadata": {},
   "source": [
    "## Community Detection"
   ]
  },
  {
   "cell_type": "markdown",
   "id": "d0eb8bca",
   "metadata": {},
   "source": [
    "### Label Propogation Community Detection"
   ]
  },
  {
   "cell_type": "code",
   "execution_count": null,
   "id": "06810702",
   "metadata": {},
   "outputs": [],
   "source": [
    "comm_lp_oj= g_oj.community_label_propagation(weights = 'weight')\n",
    "\n",
    "ig.plot(comm_lp_oj, mark_groups = True, layout=\"drl\")"
   ]
  },
  {
   "cell_type": "code",
   "execution_count": null,
   "id": "b8f6fb7d",
   "metadata": {},
   "outputs": [],
   "source": [
    "modularity = g_oj.modularity(comm_lp_oj, weights='weight')\n",
    "print(modularity)"
   ]
  },
  {
   "cell_type": "code",
   "execution_count": null,
   "id": "06130397",
   "metadata": {},
   "outputs": [],
   "source": [
    "#get metrics for each community\n",
    "\n",
    "print('average weighted degree: ', get_avg_weighted_degree(comm_lp_oj))\n",
    "print('average degree: ', get_avg_degree(comm_lp_oj))\n",
    "print('transitivity: ', get_transitivity(comm_lp_oj))\n",
    "print('diameter: ', get_diameter(comm_lp_oj))"
   ]
  },
  {
   "cell_type": "markdown",
   "id": "ebeee9b6",
   "metadata": {},
   "source": [
    "### Leading Eigenvector Community Detection"
   ]
  },
  {
   "cell_type": "code",
   "execution_count": null,
   "id": "c263dcdb",
   "metadata": {},
   "outputs": [],
   "source": [
    "comm_leading_eigenvector_oj= g_oj.community_leading_eigenvector(weights = 'weight')\n",
    "\n",
    "ig.plot(comm_leading_eigenvector_oj, mark_groups = True, layout=\"drl\")"
   ]
  },
  {
   "cell_type": "code",
   "execution_count": null,
   "id": "389b023e",
   "metadata": {},
   "outputs": [],
   "source": [
    "modularity = g_oj.modularity(comm_leading_eigenvector_oj, weights='weight')\n",
    "print(modularity)"
   ]
  },
  {
   "cell_type": "code",
   "execution_count": null,
   "id": "e8e0a833",
   "metadata": {},
   "outputs": [],
   "source": [
    "#get metrics for each community\n",
    "\n",
    "print('average weighted degree: ', get_avg_weighted_degree(comm_leading_eigenvector_oj))\n",
    "print('average degree: ', get_avg_degree(comm_leading_eigenvector_oj))\n",
    "print('transitivity: ', get_transitivity(comm_leading_eigenvector_oj))\n",
    "print('diameter: ', get_diameter(comm_leading_eigenvector_oj))"
   ]
  },
  {
   "cell_type": "code",
   "execution_count": null,
   "id": "46a04e92",
   "metadata": {},
   "outputs": [],
   "source": [
    "df_leading_eigenvector_oj= pd.DataFrame({'name': list(g_oj.vs['name']), 'community':comm_leading_eigenvector_oj.membership } )\n",
    "df_leading_eigenvector_oj"
   ]
  },
  {
   "cell_type": "code",
   "execution_count": null,
   "id": "ea5d774c",
   "metadata": {},
   "outputs": [],
   "source": [
    "df_leading_eigenvector_oj.describe()"
   ]
  },
  {
   "cell_type": "code",
   "execution_count": null,
   "id": "2dfb13f7",
   "metadata": {},
   "outputs": [],
   "source": [
    "##plot community\n",
    "visual_style = {}\n",
    "\n",
    "vertex_colors = []\n",
    "\n",
    "for i in range(len(comm_leading_eigenvector_oj.membership)):\n",
    "    vertex_colors.append(colors[comm_leading_eigenvector_oj.membership[i]])\n",
    "    \n",
    "# Set bbox and margin\n",
    "visual_style[\"bbox\"] = (5000,5000)\n",
    "visual_style[\"margin\"] = 17\n",
    "\n",
    "# Set vertex colours\n",
    "visual_style[\"vertex_color\"] = vertex_colors\n",
    "\n",
    "# Set edge width\n",
    "visual_style[\"edge_width\"] = g_oj.es['weight']\n",
    "\n",
    "# Set edge color\n",
    "visual_style[\"edge_color\"] = \"rgba(1,1,1,0.1)\" \n",
    "\n",
    "# Set vertex size\n",
    "visual_style[\"vertex_size\"] = 15\n",
    "\n",
    "# Set vertex label size\n",
    "visual_style[\"vertex_label_size\"] = 20\n",
    "\n",
    "# Set vertex label color\n",
    "visual_style[\"vertex_label_color\"] = 'red'\n",
    "\n",
    "# Don't curve the edges\n",
    "visual_style[\"edge_curved\"] = False\n",
    "\n",
    "# Set the layout\n",
    "my_layout = g_oj.layout_fruchterman_reingold()\n",
    "visual_style[\"layout\"] = my_layout\n",
    "\n",
    "# Plot the graph\n",
    "ig.plot(g_oj,'log_images/directed_all_jur_images/communities_leading_eigenvector.png', vertex_label = g_oj.vs['name'] , **visual_style)"
   ]
  },
  {
   "cell_type": "code",
   "execution_count": null,
   "id": "8befc0a9",
   "metadata": {},
   "outputs": [],
   "source": [
    "# Set the layout\n",
    "my_layout = g_oj.layout_circle()\n",
    "visual_style[\"layout\"] = my_layout\n",
    "\n",
    "# Plot the graph\n",
    "ig.plot(g_oj,'log_images/directed_all_jur_images/leading_vector_circular.png', vertex_label = g_oj.vs['name'] , **visual_style)"
   ]
  },
  {
   "cell_type": "code",
   "execution_count": null,
   "id": "22207ae6",
   "metadata": {},
   "outputs": [],
   "source": [
    "for i in range(len(comm_leading_eigenvector_oj.subgraphs())):\n",
    "    \n",
    "    visual_style[\"bbox\"] = (2000,2000)\n",
    "    visual_style[\"margin\"] = 17\n",
    "    \n",
    "    # Set vertex colours\n",
    "    visual_style[\"vertex_color\"] = 'green'\n",
    "\n",
    "    # Set edge width\n",
    "    visual_style[\"edge_width\"] = comm_leading_eigenvector_oj.subgraphs()[i].es['weight']\n",
    "    # Set the layout\n",
    "    my_layout = comm_leading_eigenvector_oj.subgraphs()[i].layout_fruchterman_reingold()\n",
    "    visual_style[\"layout\"] = my_layout\n",
    "\n",
    "    ig.plot(comm_leading_eigenvector_oj.subgraphs()[i],'log_images/directed_all_jur_images/leading_eigenvector_subgraph' + str(i) + '.png' ,vertex_label = comm_leading_eigenvector_oj.subgraphs()[i].vs['name'],**visual_style  )\n",
    "    "
   ]
  },
  {
   "cell_type": "markdown",
   "id": "bce5e873",
   "metadata": {},
   "source": [
    "### Spinglass Community Detection"
   ]
  },
  {
   "cell_type": "code",
   "execution_count": null,
   "id": "9290d1ed",
   "metadata": {},
   "outputs": [],
   "source": [
    "comm_spinglass_oj = g_oj.community_spinglass(weights = 'weight')\n",
    "\n",
    "ig.plot(comm_spinglass_oj, mark_groups = True, layout=\"drl\")"
   ]
  },
  {
   "cell_type": "code",
   "execution_count": null,
   "id": "8532cf9d",
   "metadata": {},
   "outputs": [],
   "source": [
    "modularity = g_oj.modularity(comm_spinglass_oj, weights='weight')\n",
    "print(modularity)"
   ]
  },
  {
   "cell_type": "code",
   "execution_count": null,
   "id": "9c291cf9",
   "metadata": {},
   "outputs": [],
   "source": [
    "#get metrics for each community\n",
    "\n",
    "print('average weighted degree: ', get_avg_weighted_degree(comm_spinglass_oj))\n",
    "print('average degree: ', get_avg_degree(comm_spinglass_oj))\n",
    "print('transitivity: ', get_transitivity(comm_spinglass_oj))\n",
    "print('diameter: ', get_diameter(comm_spinglass_oj))"
   ]
  },
  {
   "cell_type": "code",
   "execution_count": null,
   "id": "d5b36d10",
   "metadata": {},
   "outputs": [],
   "source": [
    "df_spinglass_oj = pd.DataFrame({'name': list(g_oj.vs['name']), 'community':comm_spinglass_oj.membership } )\n",
    "df_spinglass_oj"
   ]
  },
  {
   "cell_type": "code",
   "execution_count": null,
   "id": "7afade12",
   "metadata": {},
   "outputs": [],
   "source": [
    "df_spinglass_oj.describe()"
   ]
  },
  {
   "cell_type": "code",
   "execution_count": null,
   "id": "8fb09d96",
   "metadata": {},
   "outputs": [],
   "source": [
    "##plot community\n",
    "visual_style = {}\n",
    "\n",
    "vertex_colors = []\n",
    "\n",
    "for i in range(len(comm_spinglass_oj.membership)):\n",
    "    vertex_colors.append(colors[comm_spinglass_oj.membership[i]])\n",
    "    \n",
    "# Set bbox and margin\n",
    "visual_style[\"bbox\"] = (5000,5000)\n",
    "visual_style[\"margin\"] = 17\n",
    "\n",
    "# Set vertex colours\n",
    "visual_style[\"vertex_color\"] = vertex_colors\n",
    "\n",
    "# Set edge width\n",
    "visual_style[\"edge_width\"] = g_oj.es['weight']\n",
    "\n",
    "# Set edge color\n",
    "visual_style[\"edge_color\"] = \"rgba(1,1,1,0.1)\" \n",
    "\n",
    "# Set vertex size\n",
    "visual_style[\"vertex_size\"] = 15\n",
    "\n",
    "# Set vertex label size\n",
    "visual_style[\"vertex_label_size\"] = 20\n",
    "\n",
    "# Set vertex label color\n",
    "visual_style[\"vertex_label_color\"] = 'red'\n",
    "\n",
    "# Don't curve the edges\n",
    "visual_style[\"edge_curved\"] = False\n",
    "\n",
    "# Set the layout\n",
    "my_layout = g_oj.layout_fruchterman_reingold()\n",
    "visual_style[\"layout\"] = my_layout\n",
    "\n",
    "# Plot the graph\n",
    "ig.plot(g_oj,'log_images/directed_all_jur_images/communities_spinglass.png', vertex_label = g_oj.vs['name'] , **visual_style)"
   ]
  },
  {
   "cell_type": "code",
   "execution_count": null,
   "id": "cfc82af3",
   "metadata": {},
   "outputs": [],
   "source": [
    "# Set the layout\n",
    "my_layout = g_oj.layout_circle()\n",
    "visual_style[\"layout\"] = my_layout\n",
    "\n",
    "# Plot the graph\n",
    "ig.plot(g_oj,'log_images/directed_all_jur_images/spinglass_circular.png', vertex_label = g_oj.vs['name'] , **visual_style)"
   ]
  },
  {
   "cell_type": "code",
   "execution_count": null,
   "id": "d046e73f",
   "metadata": {},
   "outputs": [],
   "source": [
    "for i in range(len(comm_spinglass_oj.subgraphs())):\n",
    "    \n",
    "    visual_style[\"bbox\"] = (2000,2000)\n",
    "    visual_style[\"margin\"] = 17\n",
    "    \n",
    "    # Set vertex colours\n",
    "    visual_style[\"vertex_color\"] = 'green'\n",
    "\n",
    "    # Set edge width\n",
    "    visual_style[\"edge_width\"] = comm_spinglass_oj.subgraphs()[i].es['weight']\n",
    "    # Set the layout\n",
    "    my_layout = comm_spinglass_oj.subgraphs()[i].layout_fruchterman_reingold()\n",
    "    visual_style[\"layout\"] = my_layout\n",
    "\n",
    "    ig.plot(comm_spinglass_oj.subgraphs()[i],'log_images/directed_all_jur_images/spinglass_subgraph' + str(i) + '.png' ,vertex_label = comm_spinglass_oj.subgraphs()[i].vs['name'],**visual_style  )\n",
    "    "
   ]
  },
  {
   "cell_type": "markdown",
   "id": "71b559f6",
   "metadata": {},
   "source": [
    "### Walktrap Community Detection"
   ]
  },
  {
   "cell_type": "code",
   "execution_count": null,
   "id": "01d4891b",
   "metadata": {},
   "outputs": [],
   "source": [
    "walktrap_oj = g_oj.community_walktrap(weights = 'weight', steps = 2)\n",
    "\n",
    "comm_walktrap_oj = walktrap_oj.as_clustering()\n",
    "\n",
    "ig.plot(comm_walktrap_oj, mark_groups = True, layout=\"drl\")"
   ]
  },
  {
   "cell_type": "code",
   "execution_count": null,
   "id": "43553fe0",
   "metadata": {},
   "outputs": [],
   "source": [
    "modularity = g_oj.modularity(comm_walktrap_oj, weights='weight')\n",
    "print(modularity)"
   ]
  },
  {
   "cell_type": "code",
   "execution_count": null,
   "id": "7a43b34d",
   "metadata": {},
   "outputs": [],
   "source": [
    "#get metrics for each community\n",
    "\n",
    "print('average weighted degree: ', get_avg_weighted_degree(comm_walktrap_oj))\n",
    "print('average degree: ', get_avg_degree(comm_walktrap_oj))\n",
    "print('transitivity: ', get_transitivity(comm_walktrap_oj))\n",
    "print('diameter: ', get_diameter(comm_walktrap_oj))"
   ]
  },
  {
   "cell_type": "code",
   "execution_count": null,
   "id": "a56cfd3d",
   "metadata": {},
   "outputs": [],
   "source": [
    "df_walktrap_oj = pd.DataFrame({'name': list(g_oj.vs['name']), 'community':comm_walktrap_oj.membership } )\n",
    "df_walktrap_oj"
   ]
  },
  {
   "cell_type": "code",
   "execution_count": null,
   "id": "fe7e17e9",
   "metadata": {},
   "outputs": [],
   "source": [
    "df_walktrap_oj.describe()"
   ]
  },
  {
   "cell_type": "code",
   "execution_count": null,
   "id": "e6afc020",
   "metadata": {},
   "outputs": [],
   "source": [
    "# ##plot community\n",
    "# visual_style = {}\n",
    "\n",
    "# vertex_colors = []\n",
    "\n",
    "# for i in range(len(comm_walktrap_oj.membership)):\n",
    "#     vertex_colors.append(colors[comm_walktrap_oj.membership[i]])\n",
    "    \n",
    "# # Set bbox and margin\n",
    "# visual_style[\"bbox\"] = (5000,5000)\n",
    "# visual_style[\"margin\"] = 17\n",
    "\n",
    "# # Set vertex colours\n",
    "# visual_style[\"vertex_color\"] = vertex_colors\n",
    "\n",
    "# # Set edge width\n",
    "# visual_style[\"edge_width\"] = g_oj.es['weight']\n",
    "\n",
    "# # Set edge color\n",
    "# visual_style[\"edge_color\"] = \"rgba(1,1,1,0.1)\" \n",
    "\n",
    "# # Set vertex size\n",
    "# visual_style[\"vertex_size\"] = 15\n",
    "\n",
    "# # Set vertex label size\n",
    "# visual_style[\"vertex_label_size\"] = 20\n",
    "\n",
    "# # Set vertex label color\n",
    "# visual_style[\"vertex_label_color\"] = 'red'\n",
    "\n",
    "# # Don't curve the edges\n",
    "# visual_style[\"edge_curved\"] = False\n",
    "\n",
    "# # Set the layout\n",
    "# my_layout = g_oj.layout_fruchterman_reingold()\n",
    "# visual_style[\"layout\"] = my_layout\n",
    "\n",
    "# # Plot the graph\n",
    "# ig.plot(g_oj,'log_images/directed_all_jur_images/communities_walktrap.png', vertex_label = g_oj.vs['name'] , **visual_style)"
   ]
  },
  {
   "cell_type": "code",
   "execution_count": null,
   "id": "5f2e66e7",
   "metadata": {},
   "outputs": [],
   "source": [
    "# # Set the layout\n",
    "# my_layout = g_oj.layout_circle()\n",
    "# visual_style[\"layout\"] = my_layout\n",
    "\n",
    "# # Plot the graph\n",
    "# ig.plot(g_oj,'log_images/directed_all_jur_images/walktrap_circular.png', vertex_label = g_oj.vs['name'] , **visual_style)"
   ]
  },
  {
   "cell_type": "code",
   "execution_count": null,
   "id": "cab1f420",
   "metadata": {},
   "outputs": [],
   "source": [
    "# for i in range(len(comm_walktrap_oj.subgraphs())):\n",
    "    \n",
    "#     visual_style[\"bbox\"] = (2000,2000)\n",
    "#     visual_style[\"margin\"] = 17\n",
    "    \n",
    "#     # Set vertex colours\n",
    "#     visual_style[\"vertex_color\"] = 'green'\n",
    "\n",
    "#     # Set edge width\n",
    "#     visual_style[\"edge_width\"] = comm_walktrap_oj.subgraphs()[i].es['weight']\n",
    "#     # Set the layout\n",
    "#     my_layout = comm_walktrap_oj.subgraphs()[i].layout_fruchterman_reingold()\n",
    "#     visual_style[\"layout\"] = my_layout\n",
    "\n",
    "#     ig.plot(comm_walktrap_oj.subgraphs()[i],'log_images/directed_all_jur_images/walktrap_subgraph' + str(i) + '.png' ,vertex_label = comm_walktrap_oj.subgraphs()[i].vs['name'],**visual_style  )\n",
    "    "
   ]
  },
  {
   "cell_type": "markdown",
   "id": "4d77dfd0",
   "metadata": {},
   "source": [
    "### Infomap Community Detection"
   ]
  },
  {
   "cell_type": "code",
   "execution_count": null,
   "id": "d8b484bf",
   "metadata": {},
   "outputs": [],
   "source": [
    "comm_infomap_oj = g_oj.community_infomap(edge_weights = 'weight')\n",
    "\n",
    "ig.plot(comm_infomap_oj, mark_groups = True, layout=\"drl\")"
   ]
  },
  {
   "cell_type": "code",
   "execution_count": null,
   "id": "76ae0e73",
   "metadata": {},
   "outputs": [],
   "source": [
    "modularity = g_oj.modularity(comm_infomap_oj, weights='weight')\n",
    "print(modularity)"
   ]
  },
  {
   "cell_type": "code",
   "execution_count": null,
   "id": "781d430e",
   "metadata": {},
   "outputs": [],
   "source": [
    "#get metrics for each community\n",
    "\n",
    "print('average weighted degree: ', get_avg_weighted_degree(comm_infomap_oj))\n",
    "print('average degree: ', get_avg_degree(comm_infomap_oj))\n",
    "print('transitivity: ', get_transitivity(comm_infomap_oj))\n",
    "print('diameter: ', get_diameter(comm_infomap_oj))"
   ]
  },
  {
   "cell_type": "code",
   "execution_count": null,
   "id": "aac53624",
   "metadata": {},
   "outputs": [],
   "source": [
    "df_infomap_oj = pd.DataFrame({'name': list(g_oj.vs['name']), 'community':comm_infomap_oj.membership } )\n",
    "df_infomap_oj"
   ]
  },
  {
   "cell_type": "markdown",
   "id": "a31d625a",
   "metadata": {},
   "source": [
    "# No Intermediary"
   ]
  },
  {
   "cell_type": "code",
   "execution_count": null,
   "id": "2858f661",
   "metadata": {},
   "outputs": [],
   "source": [
    "df_weighted['status'].unique()"
   ]
  },
  {
   "cell_type": "code",
   "execution_count": null,
   "id": "102e074b",
   "metadata": {},
   "outputs": [],
   "source": [
    "jurisdiction_list = ['officer_jurisdiction', 'jurisdiction', 'officer_base']"
   ]
  },
  {
   "cell_type": "code",
   "execution_count": null,
   "id": "298e26f9",
   "metadata": {},
   "outputs": [],
   "source": [
    "df_weighted_jur = df_weighted[df_weighted['status'].isin(jurisdiction_list)]\n",
    "df_jur = df_weighted_jur.drop(['status'], axis = 1)\n",
    "df_jur"
   ]
  },
  {
   "cell_type": "code",
   "execution_count": null,
   "id": "9a111791",
   "metadata": {},
   "outputs": [],
   "source": [
    "df_jur_grouped = df_jur.groupby(['node_start','node_end'], as_index = False).sum()\n",
    "df_jur_grouped"
   ]
  },
  {
   "cell_type": "code",
   "execution_count": null,
   "id": "2f0b2505",
   "metadata": {},
   "outputs": [],
   "source": [
    "df_jur_grouped['log_weights'] = np.log(df_jur_grouped['weight']) + 1\n",
    "df_jur_grouped"
   ]
  },
  {
   "cell_type": "markdown",
   "id": "c9fb685c",
   "metadata": {},
   "source": [
    "### Convert Data to an Undirected Edge List"
   ]
  },
  {
   "cell_type": "code",
   "execution_count": null,
   "id": "2d235348",
   "metadata": {},
   "outputs": [],
   "source": [
    "# df_jur_grouped_list = df_jur_grouped.values.tolist()\n",
    "# df_jur_grouped_list"
   ]
  },
  {
   "cell_type": "code",
   "execution_count": null,
   "id": "0c1f4e86",
   "metadata": {},
   "outputs": [],
   "source": [
    "# d = collections.defaultdict(int)\n",
    "# for n1, n2, v in df_jur_grouped_list:\n",
    "#     d[min(n1, n2), max(n1, n2)] += v\n",
    "# result = [[k[0], k[1], v] for k, v in d.items()]"
   ]
  },
  {
   "cell_type": "code",
   "execution_count": null,
   "id": "912d1fa0",
   "metadata": {},
   "outputs": [],
   "source": [
    "# df_net = pd.DataFrame(result)\n",
    "# df_net"
   ]
  },
  {
   "cell_type": "code",
   "execution_count": null,
   "id": "25edb421",
   "metadata": {},
   "outputs": [],
   "source": [
    "# df_net = df_net.rename(columns = {0:'node_1', 1:'node_2', 2: 'weight'})\n",
    "# df_net"
   ]
  },
  {
   "cell_type": "code",
   "execution_count": null,
   "id": "fb7742eb",
   "metadata": {},
   "outputs": [],
   "source": [
    "#df_net.to_csv('undirected_weighted_grouped.csv', index = False)"
   ]
  },
  {
   "cell_type": "code",
   "execution_count": null,
   "id": "6fafe246",
   "metadata": {},
   "outputs": [],
   "source": [
    "# df_net.describe()"
   ]
  },
  {
   "cell_type": "markdown",
   "id": "0371d581",
   "metadata": {},
   "source": [
    "## Create Graph"
   ]
  },
  {
   "cell_type": "code",
   "execution_count": null,
   "id": "f093c314",
   "metadata": {},
   "outputs": [],
   "source": [
    "g_ni = ig.Graph.TupleList(df_jur_grouped.itertuples(index=False), directed=True, edge_attrs={'weight': \"log_weights\"})\n"
   ]
  },
  {
   "cell_type": "code",
   "execution_count": null,
   "id": "977fcbc7",
   "metadata": {},
   "outputs": [],
   "source": [
    "ig.plot(g_ni)"
   ]
  },
  {
   "cell_type": "code",
   "execution_count": null,
   "id": "87f0401a",
   "metadata": {},
   "outputs": [],
   "source": [
    "g_ni.diameter()"
   ]
  },
  {
   "cell_type": "code",
   "execution_count": null,
   "id": "1d06af98",
   "metadata": {},
   "outputs": [],
   "source": [
    "print( \"Clustering Coefficient: \", g_ni.transitivity_undirected())"
   ]
  },
  {
   "cell_type": "code",
   "execution_count": null,
   "id": "55e58c7d",
   "metadata": {},
   "outputs": [],
   "source": [
    "np.mean(g_ni.degree())"
   ]
  },
  {
   "cell_type": "code",
   "execution_count": null,
   "id": "79bcc87d",
   "metadata": {},
   "outputs": [],
   "source": [
    "np.mean(g_ni.strength(weights = 'weight'))"
   ]
  },
  {
   "cell_type": "code",
   "execution_count": null,
   "id": "97b2338e",
   "metadata": {},
   "outputs": [],
   "source": [
    "df_strength = pd.DataFrame({'name': list(g_ni.vs['name']), 'weighted_degree':g_ni.strength(weights = 'weight') } )\n",
    "df_strength = df_strength.sort_values('weighted_degree', ascending = False).reset_index(drop = True)\n",
    "df_strength"
   ]
  },
  {
   "cell_type": "markdown",
   "id": "39bf8acd",
   "metadata": {},
   "source": [
    "## Community Detection"
   ]
  },
  {
   "cell_type": "markdown",
   "id": "d2f3791f",
   "metadata": {},
   "source": [
    "### Label Propogation Community Detection"
   ]
  },
  {
   "cell_type": "code",
   "execution_count": null,
   "id": "147abbed",
   "metadata": {},
   "outputs": [],
   "source": [
    "comm_lp_ni= g_ni.community_label_propagation(weights = 'weight')\n",
    "\n",
    "ig.plot(comm_lp_ni, mark_groups = True, layout=\"drl\")"
   ]
  },
  {
   "cell_type": "code",
   "execution_count": null,
   "id": "f64f0258",
   "metadata": {},
   "outputs": [],
   "source": [
    "modularity = g_ni.modularity(comm_lp_ni, weights='weight')\n",
    "print(modularity)"
   ]
  },
  {
   "cell_type": "code",
   "execution_count": null,
   "id": "a69edf01",
   "metadata": {},
   "outputs": [],
   "source": [
    "#get metrics for each community\n",
    "\n",
    "print('average weighted degree: ', get_avg_weighted_degree(comm_lp_ni))\n",
    "print('average degree: ', get_avg_degree(comm_lp_ni))\n",
    "print('transitivity: ', get_transitivity(comm_lp_ni))\n",
    "print('diameter: ', get_diameter(comm_lp_ni))"
   ]
  },
  {
   "cell_type": "markdown",
   "id": "c0e06830",
   "metadata": {},
   "source": [
    "### Leading Eigenvector Community Detection"
   ]
  },
  {
   "cell_type": "code",
   "execution_count": null,
   "id": "dd5cd706",
   "metadata": {},
   "outputs": [],
   "source": [
    "comm_leading_eigenvector_ni= g_ni.community_leading_eigenvector(weights = 'weight')\n",
    "\n",
    "ig.plot(comm_leading_eigenvector_ni, mark_groups = True, layout=\"drl\")"
   ]
  },
  {
   "cell_type": "code",
   "execution_count": null,
   "id": "b9ff9181",
   "metadata": {},
   "outputs": [],
   "source": [
    "modularity = g_ni.modularity(comm_leading_eigenvector_ni, weights='weight')\n",
    "print(modularity)"
   ]
  },
  {
   "cell_type": "code",
   "execution_count": null,
   "id": "86c8f3af",
   "metadata": {},
   "outputs": [],
   "source": [
    "#get metrics for each community\n",
    "\n",
    "print('average weighted degree: ', get_avg_weighted_degree(comm_leading_eigenvector_ni))\n",
    "print('average degree: ', get_avg_degree(comm_leading_eigenvector_ni))\n",
    "print('transitivity: ', get_transitivity(comm_leading_eigenvector_ni))\n",
    "print('diameter: ', get_diameter(comm_leading_eigenvector_ni))"
   ]
  },
  {
   "cell_type": "code",
   "execution_count": null,
   "id": "3868c513",
   "metadata": {},
   "outputs": [],
   "source": [
    "df_leading_eigenvector_ni= pd.DataFrame({'name': list(g_ni.vs['name']), 'community':comm_leading_eigenvector_ni.membership } )\n",
    "df_leading_eigenvector_ni"
   ]
  },
  {
   "cell_type": "code",
   "execution_count": null,
   "id": "ca39c311",
   "metadata": {},
   "outputs": [],
   "source": [
    "df_leading_eigenvector_ni.describe()"
   ]
  },
  {
   "cell_type": "code",
   "execution_count": null,
   "id": "e971436f",
   "metadata": {},
   "outputs": [],
   "source": [
    "##plot community\n",
    "visual_style = {}\n",
    "\n",
    "vertex_colors = []\n",
    "\n",
    "for i in range(len(comm_leading_eigenvector_ni.membership)):\n",
    "    vertex_colors.append(colors[comm_leading_eigenvector_ni.membership[i]])\n",
    "    \n",
    "# Set bbox and margin\n",
    "visual_style[\"bbox\"] = (5000,5000)\n",
    "visual_style[\"margin\"] = 17\n",
    "\n",
    "# Set vertex colours\n",
    "visual_style[\"vertex_color\"] = vertex_colors\n",
    "\n",
    "# Set edge width\n",
    "visual_style[\"edge_width\"] = g_ni.es['weight']\n",
    "\n",
    "# Set edge color\n",
    "visual_style[\"edge_color\"] = \"rgba(1,1,1,0.1)\" \n",
    "\n",
    "# Set vertex size\n",
    "visual_style[\"vertex_size\"] = 15\n",
    "\n",
    "# Set vertex label size\n",
    "visual_style[\"vertex_label_size\"] = 20\n",
    "\n",
    "# Set vertex label color\n",
    "visual_style[\"vertex_label_color\"] = 'red'\n",
    "\n",
    "# Don't curve the edges\n",
    "visual_style[\"edge_curved\"] = False\n",
    "\n",
    "# Set the layout\n",
    "my_layout = g_ni.layout_fruchterman_reingold()\n",
    "visual_style[\"layout\"] = my_layout\n",
    "\n",
    "# Plot the graph\n",
    "ig.plot(g_ni,'log_imagesdirected_all_jur_images/communities_leading_eigenvector.png', vertex_label = g_ni.vs['name'] , **visual_style)"
   ]
  },
  {
   "cell_type": "code",
   "execution_count": null,
   "id": "c134678d",
   "metadata": {},
   "outputs": [],
   "source": [
    "# Set the layout\n",
    "my_layout = g_ni.layout_circle()\n",
    "visual_style[\"layout\"] = my_layout\n",
    "\n",
    "# Plot the graph\n",
    "ig.plot(g_ni,'log_imagesdirected_all_jur_images/leading_vector_circular.png', vertex_label = g_ni.vs['name'] , **visual_style)"
   ]
  },
  {
   "cell_type": "code",
   "execution_count": null,
   "id": "e2d9ce32",
   "metadata": {},
   "outputs": [],
   "source": [
    "for i in range(len(comm_leading_eigenvector_ni.subgraphs())):\n",
    "    \n",
    "    visual_style[\"bbox\"] = (2000,2000)\n",
    "    visual_style[\"margin\"] = 17\n",
    "    \n",
    "    # Set vertex colours\n",
    "    visual_style[\"vertex_color\"] = 'green'\n",
    "\n",
    "    # Set edge width\n",
    "    visual_style[\"edge_width\"] = comm_leading_eigenvector_ni.subgraphs()[i].es['weight']\n",
    "    # Set the layout\n",
    "    my_layout = comm_leading_eigenvector_ni.subgraphs()[i].layout_fruchterman_reingold()\n",
    "    visual_style[\"layout\"] = my_layout\n",
    "\n",
    "    ig.plot(comm_leading_eigenvector_ni.subgraphs()[i],'log_imagesdirected_all_jur_images/leading_eigenvector_subgraph' + str(i) + '.png' ,vertex_label = comm_leading_eigenvector_ni.subgraphs()[i].vs['name'],**visual_style  )\n",
    "    "
   ]
  },
  {
   "cell_type": "markdown",
   "id": "0b4bf585",
   "metadata": {},
   "source": [
    "### Spinglass Community Detection"
   ]
  },
  {
   "cell_type": "code",
   "execution_count": null,
   "id": "74b3013d",
   "metadata": {},
   "outputs": [],
   "source": [
    "comm_spinglass_ni = g_ni.community_spinglass(weights = 'weight')\n",
    "\n",
    "ig.plot(comm_spinglass_ni, mark_groups = True, layout=\"drl\")"
   ]
  },
  {
   "cell_type": "code",
   "execution_count": null,
   "id": "82279fef",
   "metadata": {},
   "outputs": [],
   "source": [
    "modularity = g_ni.modularity(comm_spinglass_ni, weights='weight')\n",
    "print(modularity)"
   ]
  },
  {
   "cell_type": "code",
   "execution_count": null,
   "id": "dcdb2719",
   "metadata": {},
   "outputs": [],
   "source": [
    "#get metrics for each community\n",
    "\n",
    "print('average weighted degree: ', get_avg_weighted_degree(comm_spinglass_ni))\n",
    "print('average degree: ', get_avg_degree(comm_spinglass_ni))\n",
    "print('transitivity: ', get_transitivity(comm_spinglass_ni))\n",
    "print('diameter: ', get_diameter(comm_spinglass_ni))"
   ]
  },
  {
   "cell_type": "code",
   "execution_count": null,
   "id": "329d6e26",
   "metadata": {},
   "outputs": [],
   "source": [
    "df_spinglass_ni = pd.DataFrame({'name': list(g_ni.vs['name']), 'community':comm_spinglass_ni.membership } )\n",
    "df_spinglass_ni"
   ]
  },
  {
   "cell_type": "code",
   "execution_count": null,
   "id": "77b18471",
   "metadata": {},
   "outputs": [],
   "source": [
    "df_spinglass_ni.describe()"
   ]
  },
  {
   "cell_type": "code",
   "execution_count": null,
   "id": "cadfa9dd",
   "metadata": {},
   "outputs": [],
   "source": [
    "##plot community\n",
    "visual_style = {}\n",
    "\n",
    "vertex_colors = []\n",
    "\n",
    "for i in range(len(comm_spinglass_ni.membership)):\n",
    "    vertex_colors.append(colors[comm_spinglass_ni.membership[i]])\n",
    "    \n",
    "# Set bbox and margin\n",
    "visual_style[\"bbox\"] = (5000,5000)\n",
    "visual_style[\"margin\"] = 17\n",
    "\n",
    "# Set vertex colours\n",
    "visual_style[\"vertex_color\"] = vertex_colors\n",
    "\n",
    "# Set edge width\n",
    "visual_style[\"edge_width\"] = g_ni.es['weight']\n",
    "\n",
    "# Set edge color\n",
    "visual_style[\"edge_color\"] = \"rgba(1,1,1,0.1)\" \n",
    "\n",
    "# Set vertex size\n",
    "visual_style[\"vertex_size\"] = 15\n",
    "\n",
    "# Set vertex label size\n",
    "visual_style[\"vertex_label_size\"] = 20\n",
    "\n",
    "# Set vertex label color\n",
    "visual_style[\"vertex_label_color\"] = 'red'\n",
    "\n",
    "# Don't curve the edges\n",
    "visual_style[\"edge_curved\"] = False\n",
    "\n",
    "# Set the layout\n",
    "my_layout = g_ni.layout_fruchterman_reingold()\n",
    "visual_style[\"layout\"] = my_layout\n",
    "\n",
    "# Plot the graph\n",
    "ig.plot(g_ni,'log_images/directed_all_jur_images/communities_spinglass.png', vertex_label = g_ni.vs['name'] , **visual_style)"
   ]
  },
  {
   "cell_type": "code",
   "execution_count": null,
   "id": "a01a7b2e",
   "metadata": {},
   "outputs": [],
   "source": [
    "# Set the layout\n",
    "my_layout = g_ni.layout_circle()\n",
    "visual_style[\"layout\"] = my_layout\n",
    "\n",
    "# Plot the graph\n",
    "ig.plot(g_ni,'log_images/directed_all_jur_images/spinglass_circular.png', vertex_label = g_ni.vs['name'] , **visual_style)"
   ]
  },
  {
   "cell_type": "code",
   "execution_count": null,
   "id": "49a74bd5",
   "metadata": {},
   "outputs": [],
   "source": [
    "for i in range(len(comm_spinglass_ni.subgraphs())):\n",
    "    \n",
    "    visual_style[\"bbox\"] = (2000,2000)\n",
    "    visual_style[\"margin\"] = 17\n",
    "    \n",
    "    # Set vertex colours\n",
    "    visual_style[\"vertex_color\"] = 'green'\n",
    "\n",
    "    # Set edge width\n",
    "    visual_style[\"edge_width\"] = comm_spinglass_ni.subgraphs()[i].es['weight']\n",
    "    # Set the layout\n",
    "    my_layout = comm_spinglass_ni.subgraphs()[i].layout_fruchterman_reingold()\n",
    "    visual_style[\"layout\"] = my_layout\n",
    "\n",
    "    ig.plot(comm_spinglass_ni.subgraphs()[i],'log_images/directed_all_jur_images/spinglass_subgraph' + str(i) + '.png' ,vertex_label = comm_spinglass_ni.subgraphs()[i].vs['name'],**visual_style  )\n",
    "    "
   ]
  },
  {
   "cell_type": "markdown",
   "id": "0c5d9c85",
   "metadata": {},
   "source": [
    "### Walktrap Community Detection"
   ]
  },
  {
   "cell_type": "code",
   "execution_count": null,
   "id": "2037c53d",
   "metadata": {},
   "outputs": [],
   "source": [
    "walktrap_ni = g_ni.community_walktrap(weights = 'weight', steps = 2)\n",
    "\n",
    "comm_walktrap_ni = walktrap_ni.as_clustering()\n",
    "\n",
    "ig.plot(comm_walktrap_ni, mark_groups = True, layout=\"drl\")"
   ]
  },
  {
   "cell_type": "code",
   "execution_count": null,
   "id": "1796f2b0",
   "metadata": {},
   "outputs": [],
   "source": [
    "modularity = g_ni.modularity(comm_walktrap_ni, weights='weight')\n",
    "print(modularity)"
   ]
  },
  {
   "cell_type": "code",
   "execution_count": null,
   "id": "7976a4c7",
   "metadata": {},
   "outputs": [],
   "source": [
    "#get metrics for each community\n",
    "\n",
    "print('average weighted degree: ', get_avg_weighted_degree(comm_walktrap_ni))\n",
    "print('average degree: ', get_avg_degree(comm_walktrap_ni))\n",
    "print('transitivity: ', get_transitivity(comm_walktrap_ni))\n",
    "print('diameter: ', get_diameter(comm_walktrap_ni))"
   ]
  },
  {
   "cell_type": "code",
   "execution_count": null,
   "id": "de6cee09",
   "metadata": {},
   "outputs": [],
   "source": [
    "df_walktrap_ni = pd.DataFrame({'name': list(g_ni.vs['name']), 'community':comm_walktrap_ni.membership } )\n",
    "df_walktrap_ni"
   ]
  },
  {
   "cell_type": "code",
   "execution_count": null,
   "id": "af74d328",
   "metadata": {},
   "outputs": [],
   "source": [
    "df_walktrap_ni.describe()"
   ]
  },
  {
   "cell_type": "code",
   "execution_count": null,
   "id": "5ee0cdff",
   "metadata": {},
   "outputs": [],
   "source": [
    "# ##plot community\n",
    "# visual_style = {}\n",
    "\n",
    "# vertex_colors = []\n",
    "\n",
    "# for i in range(len(comm_walktrap_ni.membership)):\n",
    "#     vertex_colors.append(colors[comm_walktrap_ni.membership[i]])\n",
    "    \n",
    "# # Set bbox and margin\n",
    "# visual_style[\"bbox\"] = (5000,5000)\n",
    "# visual_style[\"margin\"] = 17\n",
    "\n",
    "# # Set vertex colours\n",
    "# visual_style[\"vertex_color\"] = vertex_colors\n",
    "\n",
    "# # Set edge width\n",
    "# visual_style[\"edge_width\"] = g_ni.es['weight']\n",
    "\n",
    "# # Set edge color\n",
    "# visual_style[\"edge_color\"] = \"rgba(1,1,1,0.1)\" \n",
    "\n",
    "# # Set vertex size\n",
    "# visual_style[\"vertex_size\"] = 15\n",
    "\n",
    "# # Set vertex label size\n",
    "# visual_style[\"vertex_label_size\"] = 20\n",
    "\n",
    "# # Set vertex label color\n",
    "# visual_style[\"vertex_label_color\"] = 'red'\n",
    "\n",
    "# # Don't curve the edges\n",
    "# visual_style[\"edge_curved\"] = False\n",
    "\n",
    "# # Set the layout\n",
    "# my_layout = g_ni.layout_fruchterman_reingold()\n",
    "# visual_style[\"layout\"] = my_layout\n",
    "\n",
    "# # Plot the graph\n",
    "# ig.plot(g_ni,'log_images/directed_all_jur_images/communities_walktrap.png', vertex_label = g_ni.vs['name'] , **visual_style)"
   ]
  },
  {
   "cell_type": "code",
   "execution_count": null,
   "id": "ebd82d37",
   "metadata": {},
   "outputs": [],
   "source": [
    "# # Set the layout\n",
    "# my_layout = g_ni.layout_circle()\n",
    "# visual_style[\"layout\"] = my_layout\n",
    "\n",
    "# # Plot the graph\n",
    "# ig.plot(g_ni,'log_images/directed_all_jur_images/walktrap_circular.png', vertex_label = g_ni.vs['name'] , **visual_style)"
   ]
  },
  {
   "cell_type": "code",
   "execution_count": null,
   "id": "33411af0",
   "metadata": {},
   "outputs": [],
   "source": [
    "# for i in range(len(comm_walktrap_ni.subgraphs())):\n",
    "    \n",
    "#     visual_style[\"bbox\"] = (2000,2000)\n",
    "#     visual_style[\"margin\"] = 17\n",
    "    \n",
    "#     # Set vertex colours\n",
    "#     visual_style[\"vertex_color\"] = 'green'\n",
    "\n",
    "#     # Set edge width\n",
    "#     visual_style[\"edge_width\"] = comm_walktrap_ni.subgraphs()[i].es['weight']\n",
    "#     # Set the layout\n",
    "#     my_layout = comm_walktrap_ni.subgraphs()[i].layout_fruchterman_reingold()\n",
    "#     visual_style[\"layout\"] = my_layout\n",
    "\n",
    "#     ig.plot(comm_walktrap_ni.subgraphs()[i],'log_images/directed_all_jur_images/walktrap_subgraph' + str(i) + '.png' ,vertex_label = comm_walktrap_ni.subgraphs()[i].vs['name'],**visual_style  )\n",
    "    "
   ]
  },
  {
   "cell_type": "markdown",
   "id": "40ca0ae1",
   "metadata": {},
   "source": [
    "### Infomap Community Detection"
   ]
  },
  {
   "cell_type": "code",
   "execution_count": null,
   "id": "2e707e8e",
   "metadata": {},
   "outputs": [],
   "source": [
    "comm_infomap_ni = g_ni.community_infomap(edge_weights = 'weight')\n",
    "\n",
    "ig.plot(comm_infomap_ni, mark_groups = True, layout=\"drl\")"
   ]
  },
  {
   "cell_type": "code",
   "execution_count": null,
   "id": "29270c09",
   "metadata": {},
   "outputs": [],
   "source": [
    "modularity = g_ni.modularity(comm_infomap_ni, weights='weight')\n",
    "print(modularity)"
   ]
  },
  {
   "cell_type": "code",
   "execution_count": null,
   "id": "8ac859fe",
   "metadata": {},
   "outputs": [],
   "source": [
    "#get metrics for each community\n",
    "\n",
    "print('average weighted degree: ', get_avg_weighted_degree(comm_infomap_ni))\n",
    "print('average degree: ', get_avg_degree(comm_infomap_ni))\n",
    "print('transitivity: ', get_transitivity(comm_infomap_ni))\n",
    "print('diameter: ', get_diameter(comm_infomap_ni))"
   ]
  },
  {
   "cell_type": "code",
   "execution_count": null,
   "id": "7cf84936",
   "metadata": {},
   "outputs": [],
   "source": [
    "df_infomap_ni = pd.DataFrame({'name': list(g_ni.vs['name']), 'community':comm_infomap_ni.membership } )\n",
    "df_infomap_ni"
   ]
  },
  {
   "cell_type": "code",
   "execution_count": null,
   "id": "dc9f801e",
   "metadata": {},
   "outputs": [],
   "source": []
  }
 ],
 "metadata": {
  "kernelspec": {
   "display_name": "Python 3 (ipykernel)",
   "language": "python",
   "name": "python3"
  },
  "language_info": {
   "codemirror_mode": {
    "name": "ipython",
    "version": 3
   },
   "file_extension": ".py",
   "mimetype": "text/x-python",
   "name": "python",
   "nbconvert_exporter": "python",
   "pygments_lexer": "ipython3",
   "version": "3.8.8"
  }
 },
 "nbformat": 4,
 "nbformat_minor": 5
}
