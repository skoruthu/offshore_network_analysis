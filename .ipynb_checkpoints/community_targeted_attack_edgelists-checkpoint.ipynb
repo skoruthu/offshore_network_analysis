{
 "cells": [
  {
   "cell_type": "code",
   "execution_count": 1,
   "id": "80680534",
   "metadata": {},
   "outputs": [],
   "source": [
    "#import packages\n",
    "import pandas as pd\n",
    "import numpy as np"
   ]
  },
  {
   "cell_type": "code",
   "execution_count": 2,
   "id": "ca4b1255",
   "metadata": {},
   "outputs": [
    {
     "ename": "FileNotFoundError",
     "evalue": "[Errno 2] No such file or directory: '../combined_final_weighted.csv'",
     "output_type": "error",
     "traceback": [
      "\u001b[0;31m---------------------------------------------------------------------------\u001b[0m",
      "\u001b[0;31mFileNotFoundError\u001b[0m                         Traceback (most recent call last)",
      "\u001b[0;32m<ipython-input-2-91de51698535>\u001b[0m in \u001b[0;36m<module>\u001b[0;34m\u001b[0m\n\u001b[1;32m      1\u001b[0m \u001b[0;31m#full edge list\u001b[0m\u001b[0;34m\u001b[0m\u001b[0;34m\u001b[0m\u001b[0;34m\u001b[0m\u001b[0m\n\u001b[1;32m      2\u001b[0m \u001b[0;34m\u001b[0m\u001b[0m\n\u001b[0;32m----> 3\u001b[0;31m \u001b[0mdf\u001b[0m \u001b[0;34m=\u001b[0m \u001b[0mpd\u001b[0m\u001b[0;34m.\u001b[0m\u001b[0mread_csv\u001b[0m\u001b[0;34m(\u001b[0m\u001b[0;34m'../combined_final_weighted.csv'\u001b[0m\u001b[0;34m)\u001b[0m\u001b[0;34m\u001b[0m\u001b[0;34m\u001b[0m\u001b[0m\n\u001b[0m\u001b[1;32m      4\u001b[0m \u001b[0mdf\u001b[0m\u001b[0;34m\u001b[0m\u001b[0;34m\u001b[0m\u001b[0m\n",
      "\u001b[0;32m~/opt/anaconda3/lib/python3.8/site-packages/pandas/io/parsers.py\u001b[0m in \u001b[0;36mread_csv\u001b[0;34m(filepath_or_buffer, sep, delimiter, header, names, index_col, usecols, squeeze, prefix, mangle_dupe_cols, dtype, engine, converters, true_values, false_values, skipinitialspace, skiprows, skipfooter, nrows, na_values, keep_default_na, na_filter, verbose, skip_blank_lines, parse_dates, infer_datetime_format, keep_date_col, date_parser, dayfirst, cache_dates, iterator, chunksize, compression, thousands, decimal, lineterminator, quotechar, quoting, doublequote, escapechar, comment, encoding, dialect, error_bad_lines, warn_bad_lines, delim_whitespace, low_memory, memory_map, float_precision, storage_options)\u001b[0m\n\u001b[1;32m    608\u001b[0m     \u001b[0mkwds\u001b[0m\u001b[0;34m.\u001b[0m\u001b[0mupdate\u001b[0m\u001b[0;34m(\u001b[0m\u001b[0mkwds_defaults\u001b[0m\u001b[0;34m)\u001b[0m\u001b[0;34m\u001b[0m\u001b[0;34m\u001b[0m\u001b[0m\n\u001b[1;32m    609\u001b[0m \u001b[0;34m\u001b[0m\u001b[0m\n\u001b[0;32m--> 610\u001b[0;31m     \u001b[0;32mreturn\u001b[0m \u001b[0m_read\u001b[0m\u001b[0;34m(\u001b[0m\u001b[0mfilepath_or_buffer\u001b[0m\u001b[0;34m,\u001b[0m \u001b[0mkwds\u001b[0m\u001b[0;34m)\u001b[0m\u001b[0;34m\u001b[0m\u001b[0;34m\u001b[0m\u001b[0m\n\u001b[0m\u001b[1;32m    611\u001b[0m \u001b[0;34m\u001b[0m\u001b[0m\n\u001b[1;32m    612\u001b[0m \u001b[0;34m\u001b[0m\u001b[0m\n",
      "\u001b[0;32m~/opt/anaconda3/lib/python3.8/site-packages/pandas/io/parsers.py\u001b[0m in \u001b[0;36m_read\u001b[0;34m(filepath_or_buffer, kwds)\u001b[0m\n\u001b[1;32m    460\u001b[0m \u001b[0;34m\u001b[0m\u001b[0m\n\u001b[1;32m    461\u001b[0m     \u001b[0;31m# Create the parser.\u001b[0m\u001b[0;34m\u001b[0m\u001b[0;34m\u001b[0m\u001b[0;34m\u001b[0m\u001b[0m\n\u001b[0;32m--> 462\u001b[0;31m     \u001b[0mparser\u001b[0m \u001b[0;34m=\u001b[0m \u001b[0mTextFileReader\u001b[0m\u001b[0;34m(\u001b[0m\u001b[0mfilepath_or_buffer\u001b[0m\u001b[0;34m,\u001b[0m \u001b[0;34m**\u001b[0m\u001b[0mkwds\u001b[0m\u001b[0;34m)\u001b[0m\u001b[0;34m\u001b[0m\u001b[0;34m\u001b[0m\u001b[0m\n\u001b[0m\u001b[1;32m    463\u001b[0m \u001b[0;34m\u001b[0m\u001b[0m\n\u001b[1;32m    464\u001b[0m     \u001b[0;32mif\u001b[0m \u001b[0mchunksize\u001b[0m \u001b[0;32mor\u001b[0m \u001b[0miterator\u001b[0m\u001b[0;34m:\u001b[0m\u001b[0;34m\u001b[0m\u001b[0;34m\u001b[0m\u001b[0m\n",
      "\u001b[0;32m~/opt/anaconda3/lib/python3.8/site-packages/pandas/io/parsers.py\u001b[0m in \u001b[0;36m__init__\u001b[0;34m(self, f, engine, **kwds)\u001b[0m\n\u001b[1;32m    817\u001b[0m             \u001b[0mself\u001b[0m\u001b[0;34m.\u001b[0m\u001b[0moptions\u001b[0m\u001b[0;34m[\u001b[0m\u001b[0;34m\"has_index_names\"\u001b[0m\u001b[0;34m]\u001b[0m \u001b[0;34m=\u001b[0m \u001b[0mkwds\u001b[0m\u001b[0;34m[\u001b[0m\u001b[0;34m\"has_index_names\"\u001b[0m\u001b[0;34m]\u001b[0m\u001b[0;34m\u001b[0m\u001b[0;34m\u001b[0m\u001b[0m\n\u001b[1;32m    818\u001b[0m \u001b[0;34m\u001b[0m\u001b[0m\n\u001b[0;32m--> 819\u001b[0;31m         \u001b[0mself\u001b[0m\u001b[0;34m.\u001b[0m\u001b[0m_engine\u001b[0m \u001b[0;34m=\u001b[0m \u001b[0mself\u001b[0m\u001b[0;34m.\u001b[0m\u001b[0m_make_engine\u001b[0m\u001b[0;34m(\u001b[0m\u001b[0mself\u001b[0m\u001b[0;34m.\u001b[0m\u001b[0mengine\u001b[0m\u001b[0;34m)\u001b[0m\u001b[0;34m\u001b[0m\u001b[0;34m\u001b[0m\u001b[0m\n\u001b[0m\u001b[1;32m    820\u001b[0m \u001b[0;34m\u001b[0m\u001b[0m\n\u001b[1;32m    821\u001b[0m     \u001b[0;32mdef\u001b[0m \u001b[0mclose\u001b[0m\u001b[0;34m(\u001b[0m\u001b[0mself\u001b[0m\u001b[0;34m)\u001b[0m\u001b[0;34m:\u001b[0m\u001b[0;34m\u001b[0m\u001b[0;34m\u001b[0m\u001b[0m\n",
      "\u001b[0;32m~/opt/anaconda3/lib/python3.8/site-packages/pandas/io/parsers.py\u001b[0m in \u001b[0;36m_make_engine\u001b[0;34m(self, engine)\u001b[0m\n\u001b[1;32m   1048\u001b[0m             )\n\u001b[1;32m   1049\u001b[0m         \u001b[0;31m# error: Too many arguments for \"ParserBase\"\u001b[0m\u001b[0;34m\u001b[0m\u001b[0;34m\u001b[0m\u001b[0;34m\u001b[0m\u001b[0m\n\u001b[0;32m-> 1050\u001b[0;31m         \u001b[0;32mreturn\u001b[0m \u001b[0mmapping\u001b[0m\u001b[0;34m[\u001b[0m\u001b[0mengine\u001b[0m\u001b[0;34m]\u001b[0m\u001b[0;34m(\u001b[0m\u001b[0mself\u001b[0m\u001b[0;34m.\u001b[0m\u001b[0mf\u001b[0m\u001b[0;34m,\u001b[0m \u001b[0;34m**\u001b[0m\u001b[0mself\u001b[0m\u001b[0;34m.\u001b[0m\u001b[0moptions\u001b[0m\u001b[0;34m)\u001b[0m  \u001b[0;31m# type: ignore[call-arg]\u001b[0m\u001b[0;34m\u001b[0m\u001b[0;34m\u001b[0m\u001b[0m\n\u001b[0m\u001b[1;32m   1051\u001b[0m \u001b[0;34m\u001b[0m\u001b[0m\n\u001b[1;32m   1052\u001b[0m     \u001b[0;32mdef\u001b[0m \u001b[0m_failover_to_python\u001b[0m\u001b[0;34m(\u001b[0m\u001b[0mself\u001b[0m\u001b[0;34m)\u001b[0m\u001b[0;34m:\u001b[0m\u001b[0;34m\u001b[0m\u001b[0;34m\u001b[0m\u001b[0m\n",
      "\u001b[0;32m~/opt/anaconda3/lib/python3.8/site-packages/pandas/io/parsers.py\u001b[0m in \u001b[0;36m__init__\u001b[0;34m(self, src, **kwds)\u001b[0m\n\u001b[1;32m   1865\u001b[0m \u001b[0;34m\u001b[0m\u001b[0m\n\u001b[1;32m   1866\u001b[0m         \u001b[0;31m# open handles\u001b[0m\u001b[0;34m\u001b[0m\u001b[0;34m\u001b[0m\u001b[0;34m\u001b[0m\u001b[0m\n\u001b[0;32m-> 1867\u001b[0;31m         \u001b[0mself\u001b[0m\u001b[0;34m.\u001b[0m\u001b[0m_open_handles\u001b[0m\u001b[0;34m(\u001b[0m\u001b[0msrc\u001b[0m\u001b[0;34m,\u001b[0m \u001b[0mkwds\u001b[0m\u001b[0;34m)\u001b[0m\u001b[0;34m\u001b[0m\u001b[0;34m\u001b[0m\u001b[0m\n\u001b[0m\u001b[1;32m   1868\u001b[0m         \u001b[0;32massert\u001b[0m \u001b[0mself\u001b[0m\u001b[0;34m.\u001b[0m\u001b[0mhandles\u001b[0m \u001b[0;32mis\u001b[0m \u001b[0;32mnot\u001b[0m \u001b[0;32mNone\u001b[0m\u001b[0;34m\u001b[0m\u001b[0;34m\u001b[0m\u001b[0m\n\u001b[1;32m   1869\u001b[0m         \u001b[0;32mfor\u001b[0m \u001b[0mkey\u001b[0m \u001b[0;32min\u001b[0m \u001b[0;34m(\u001b[0m\u001b[0;34m\"storage_options\"\u001b[0m\u001b[0;34m,\u001b[0m \u001b[0;34m\"encoding\"\u001b[0m\u001b[0;34m,\u001b[0m \u001b[0;34m\"memory_map\"\u001b[0m\u001b[0;34m,\u001b[0m \u001b[0;34m\"compression\"\u001b[0m\u001b[0;34m)\u001b[0m\u001b[0;34m:\u001b[0m\u001b[0;34m\u001b[0m\u001b[0;34m\u001b[0m\u001b[0m\n",
      "\u001b[0;32m~/opt/anaconda3/lib/python3.8/site-packages/pandas/io/parsers.py\u001b[0m in \u001b[0;36m_open_handles\u001b[0;34m(self, src, kwds)\u001b[0m\n\u001b[1;32m   1360\u001b[0m         \u001b[0mLet\u001b[0m \u001b[0mthe\u001b[0m \u001b[0mreaders\u001b[0m \u001b[0mopen\u001b[0m \u001b[0mIOHanldes\u001b[0m \u001b[0mafter\u001b[0m \u001b[0mthey\u001b[0m \u001b[0mare\u001b[0m \u001b[0mdone\u001b[0m \u001b[0;32mwith\u001b[0m \u001b[0mtheir\u001b[0m \u001b[0mpotential\u001b[0m \u001b[0mraises\u001b[0m\u001b[0;34m.\u001b[0m\u001b[0;34m\u001b[0m\u001b[0;34m\u001b[0m\u001b[0m\n\u001b[1;32m   1361\u001b[0m         \"\"\"\n\u001b[0;32m-> 1362\u001b[0;31m         self.handles = get_handle(\n\u001b[0m\u001b[1;32m   1363\u001b[0m             \u001b[0msrc\u001b[0m\u001b[0;34m,\u001b[0m\u001b[0;34m\u001b[0m\u001b[0;34m\u001b[0m\u001b[0m\n\u001b[1;32m   1364\u001b[0m             \u001b[0;34m\"r\"\u001b[0m\u001b[0;34m,\u001b[0m\u001b[0;34m\u001b[0m\u001b[0;34m\u001b[0m\u001b[0m\n",
      "\u001b[0;32m~/opt/anaconda3/lib/python3.8/site-packages/pandas/io/common.py\u001b[0m in \u001b[0;36mget_handle\u001b[0;34m(path_or_buf, mode, encoding, compression, memory_map, is_text, errors, storage_options)\u001b[0m\n\u001b[1;32m    640\u001b[0m                 \u001b[0merrors\u001b[0m \u001b[0;34m=\u001b[0m \u001b[0;34m\"replace\"\u001b[0m\u001b[0;34m\u001b[0m\u001b[0;34m\u001b[0m\u001b[0m\n\u001b[1;32m    641\u001b[0m             \u001b[0;31m# Encoding\u001b[0m\u001b[0;34m\u001b[0m\u001b[0;34m\u001b[0m\u001b[0;34m\u001b[0m\u001b[0m\n\u001b[0;32m--> 642\u001b[0;31m             handle = open(\n\u001b[0m\u001b[1;32m    643\u001b[0m                 \u001b[0mhandle\u001b[0m\u001b[0;34m,\u001b[0m\u001b[0;34m\u001b[0m\u001b[0;34m\u001b[0m\u001b[0m\n\u001b[1;32m    644\u001b[0m                 \u001b[0mioargs\u001b[0m\u001b[0;34m.\u001b[0m\u001b[0mmode\u001b[0m\u001b[0;34m,\u001b[0m\u001b[0;34m\u001b[0m\u001b[0;34m\u001b[0m\u001b[0m\n",
      "\u001b[0;31mFileNotFoundError\u001b[0m: [Errno 2] No such file or directory: '../combined_final_weighted.csv'"
     ]
    }
   ],
   "source": [
    "#full edge list\n",
    "\n",
    "df = pd.read_csv('../combined_final_weighted.csv')\n",
    "df"
   ]
  },
  {
   "cell_type": "code",
   "execution_count": null,
   "id": "f29d260d",
   "metadata": {},
   "outputs": [],
   "source": [
    "#df for all relationships\n",
    "\n",
    "df_all = pd.read_csv('../combined_final_weighted_groupedby.csv')\n",
    "df_all"
   ]
  },
  {
   "cell_type": "code",
   "execution_count": null,
   "id": "bda16b14",
   "metadata": {},
   "outputs": [],
   "source": [
    "# df for only jur\n",
    "\n",
    "df_only_jur = df[df['status'] == 'jurisdiction']\n",
    "df_only_jur = df_only_jur.drop(['weight','status'], axis = 1)\n",
    "df_only_jur_grouped = df_only_jur.groupby(['node_start','node_end'], as_index = False).size()\n",
    "df_only_jur_grouped"
   ]
  },
  {
   "cell_type": "code",
   "execution_count": null,
   "id": "51b32596",
   "metadata": {},
   "outputs": [],
   "source": [
    "# df for all jur\n",
    "\n",
    "all_jur_list = ['jurisdiction', 'officer_jurisdiction','intermediary jurisdiction']\n",
    "\n",
    "df_all_jur = df[df['status'].isin(all_jur_list)]\n",
    "df_all_jur = df_all_jur.drop(['weight','status'], axis = 1)\n",
    "df_all_jur_grouped = df_all_jur.groupby(['node_start','node_end'], as_index = False).size()\n",
    "df_all_jur_grouped"
   ]
  },
  {
   "cell_type": "code",
   "execution_count": null,
   "id": "01bba4f6",
   "metadata": {},
   "outputs": [],
   "source": [
    "#df for no intermediaries\n",
    "\n",
    "no_int_list = ['jurisdiction', 'officer_jurisdiction','officer_base']\n",
    "\n",
    "df_no_int = df[df['status'].isin(no_int_list)]\n",
    "df_no_int = df_no_int.drop(['weight','status'], axis = 1)\n",
    "df_no_int_grouped = df_no_int.groupby(['node_start','node_end'], as_index = False).size()\n",
    "df_no_int_grouped"
   ]
  },
  {
   "cell_type": "code",
   "execution_count": null,
   "id": "77353d8b",
   "metadata": {},
   "outputs": [],
   "source": [
    "#function to get edge list\n",
    "\n",
    "def get_edge_list(comm, comm_node_df, edges_df):\n",
    "    \n",
    "    #get list of nodes in specified community\n",
    "    comm_node_list = comm_node_df[comm_node_df['community'] == comm]['name'].tolist()\n",
    "\n",
    "    #get new edge list\n",
    "    comm_df = edges_df[edges_df['node_end'].isin(comm_node_list)]\n",
    "    comm_df = comm_df[comm_df['node_start'].isin(comm_node_list)].reset_index(drop = True)\n",
    "    \n",
    "    return comm_df"
   ]
  },
  {
   "cell_type": "markdown",
   "id": "5c2c16bc",
   "metadata": {},
   "source": [
    "### Spinglass Directed ALL"
   ]
  },
  {
   "cell_type": "code",
   "execution_count": null,
   "id": "4d597490",
   "metadata": {},
   "outputs": [],
   "source": [
    "spinglass_all_df = pd.read_csv('../directed_community_csv/df_spinglass.csv').drop('Unnamed: 0', axis = 1)\n",
    "spinglass_all_df"
   ]
  },
  {
   "cell_type": "code",
   "execution_count": null,
   "id": "0fe5b38a",
   "metadata": {},
   "outputs": [],
   "source": [
    "#show how function works\n",
    "\n",
    "get_edge_list(comm = 0, comm_node_df = spinglass_all_df, edges_df =  df_all)"
   ]
  },
  {
   "cell_type": "code",
   "execution_count": null,
   "id": "90ea367c",
   "metadata": {},
   "outputs": [],
   "source": [
    "#check how many companies before running cells\n",
    "spinglass_all_df.describe()"
   ]
  },
  {
   "cell_type": "code",
   "execution_count": null,
   "id": "94d99b50",
   "metadata": {},
   "outputs": [],
   "source": [
    "#make a list of communities to run next function\n",
    "\n",
    "spinglass_all_comms = sorted(spinglass_all_df['community'].unique().tolist())\n",
    "spinglass_all_comms"
   ]
  },
  {
   "cell_type": "code",
   "execution_count": null,
   "id": "17e61935",
   "metadata": {},
   "outputs": [],
   "source": [
    "# get edge list for all communities\n",
    "\n",
    "community_edgelist_dfs = []\n",
    "\n",
    "for i in range(len(spinglass_all_comms)):\n",
    "    community_edgelist_dfs.append(get_edge_list(comm = i, comm_node_df = spinglass_all_df, edges_df =  df_all))\n",
    "    \n"
   ]
  },
  {
   "cell_type": "code",
   "execution_count": null,
   "id": "f40cc4aa",
   "metadata": {},
   "outputs": [],
   "source": [
    "# get edge list by specifying community number\n",
    "\n",
    "community_edgelist_dfs[0]"
   ]
  },
  {
   "cell_type": "markdown",
   "id": "7c8f7991",
   "metadata": {},
   "source": [
    "### Targeted Attack : Community 0 "
   ]
  },
  {
   "cell_type": "code",
   "execution_count": null,
   "id": "5b9f5dd7",
   "metadata": {},
   "outputs": [],
   "source": [
    "## try for 1st community: 0 \n",
    "com_0 = community_edgelist_dfs[0]\n"
   ]
  },
  {
   "cell_type": "code",
   "execution_count": null,
   "id": "a70940ad",
   "metadata": {},
   "outputs": [],
   "source": [
    "#Plot graph \n",
    "g = ig.Graph.TupleList(com_0.itertuples(index=False), directed=True, edge_attrs={'weight': \"weight\"})"
   ]
  },
  {
   "cell_type": "code",
   "execution_count": null,
   "id": "21b2ddec",
   "metadata": {},
   "outputs": [],
   "source": [
    "ig.plot(g)"
   ]
  },
  {
   "cell_type": "code",
   "execution_count": null,
   "id": "99e5dde3",
   "metadata": {},
   "outputs": [],
   "source": [
    "len(g.vs.indices)"
   ]
  },
  {
   "cell_type": "code",
   "execution_count": null,
   "id": "334172f4",
   "metadata": {},
   "outputs": [],
   "source": [
    "#g.vs.indices\n",
    "com_0['node_start'].value_counts()"
   ]
  },
  {
   "cell_type": "code",
   "execution_count": null,
   "id": "ff096fa1",
   "metadata": {},
   "outputs": [],
   "source": [
    "uni =com_0['node_start'].unique()"
   ]
  },
  {
   "cell_type": "code",
   "execution_count": null,
   "id": "1946c8c0",
   "metadata": {},
   "outputs": [],
   "source": [
    "len(uni)"
   ]
  },
  {
   "cell_type": "code",
   "execution_count": null,
   "id": "a19cd1fd",
   "metadata": {},
   "outputs": [],
   "source": [
    "list(g.vs)"
   ]
  },
  {
   "cell_type": "code",
   "execution_count": null,
   "id": "830a9e38",
   "metadata": {},
   "outputs": [],
   "source": [
    "##try sort by indegree \n",
    "temp_df = pd.DataFrame({'Node_indice':g.vs.indices,\n",
    "                         'Nodes':g.vs['name'],\n",
    "                         'In_Degree':g.strength(mode='in',weights='weight')})"
   ]
  },
  {
   "cell_type": "code",
   "execution_count": null,
   "id": "849b27e9",
   "metadata": {},
   "outputs": [],
   "source": [
    "#sort by largest degree \n",
    "temp_df = temp_df.sort_values(by='In_Degree',ascending=False)"
   ]
  },
  {
   "cell_type": "code",
   "execution_count": null,
   "id": "a10a509c",
   "metadata": {},
   "outputs": [],
   "source": [
    "temp_df.head()"
   ]
  },
  {
   "cell_type": "code",
   "execution_count": null,
   "id": "1029c92d",
   "metadata": {},
   "outputs": [],
   "source": [
    "temp_df.tail()"
   ]
  },
  {
   "cell_type": "code",
   "execution_count": null,
   "id": "1b2774f7",
   "metadata": {},
   "outputs": [],
   "source": [
    "#extract out by Node\n",
    "order_of_del = temp_df['Nodes'].tolist()\n",
    "#print the list to check it\n",
    "order_of_del"
   ]
  },
  {
   "cell_type": "code",
   "execution_count": null,
   "id": "c3f47711",
   "metadata": {},
   "outputs": [],
   "source": [
    "##don't bother with unweighted so will just attempt with weighted\n",
    "#Weighted on diameter\n",
    "def weighted_Type2_targeted_del(G):\n",
    "    g = G.copy()\n",
    "    \n",
    "    num_node_removed = []\n",
    "    prop_removed=[]\n",
    "    node_removed = []\n",
    "    dia = []\n",
    "    assort_deg = []\n",
    "    degree = []\n",
    "    density = []\n",
    "    apl = []\n",
    "    bet = []\n",
    "    for i in range(len(g.vs)):\n",
    "        g.delete_vertices(order_of_del[i])\n",
    "        #print(order_of_del[i])\n",
    "        diameter = g.diameter(directed=True, weights='weight')\n",
    "        dia.append(diameter)\n",
    "        \n",
    "        asdeg = g.assortativity_degree()\n",
    "        assort_deg.append(asdeg)\n",
    "        \n",
    "        dense = g.density(loops=True)\n",
    "        density.append(dense)\n",
    "        \n",
    "        between = g.betweenness(directed=True, weights='weight')\n",
    "        between = sum(between)/max(len(between),1)\n",
    "        bet.append(between)\n",
    "        \n",
    "        #use strength\n",
    "        deg = g.strength(mode='in',weights='weight')\n",
    "        deg = sum(deg)/max(len(deg),1)\n",
    "        degree.append(deg)\n",
    "        \n",
    "        avgpl = g.average_path_length()\n",
    "        apl.append(avgpl)\n",
    "        \n",
    "        num_node_removed.append(i+1)\n",
    "        prop = round((i+1)/196,2)\n",
    "        prop_removed.append(prop)\n",
    "        node_removed.append(order_of_del[i])\n",
    "\n",
    "\n",
    "    df = pd.DataFrame({'num_nodes_removed':num_node_removed,\n",
    "                       'prop_removed':prop_removed,\n",
    "                       'node_removed':node_removed,\n",
    "                       'avg_weighted_betweenness':bet,\n",
    "                       'diameter':dia,\n",
    "                       'assortativity_degree':assort_deg,\n",
    "                       'avg_weighted_indegree':degree,\n",
    "                       'density':density,\n",
    "                       'average_path_len':apl})\n",
    "    \n",
    "    return(df)"
   ]
  },
  {
   "cell_type": "code",
   "execution_count": null,
   "id": "4ea12fc6",
   "metadata": {},
   "outputs": [],
   "source": [
    "df_type2_weighted = weighted_Type2_targeted_del(g)\n",
    "df_type2_weighted.head(15)"
   ]
  },
  {
   "cell_type": "code",
   "execution_count": null,
   "id": "57032358",
   "metadata": {},
   "outputs": [],
   "source": [
    "df_type2_weighted.tail(15)"
   ]
  },
  {
   "cell_type": "markdown",
   "id": "9e03ee44",
   "metadata": {},
   "source": [
    "### Weighted"
   ]
  },
  {
   "cell_type": "markdown",
   "id": "50117078",
   "metadata": {},
   "source": [
    "#### Weighted has to set y-limit because of huge range"
   ]
  },
  {
   "cell_type": "code",
   "execution_count": null,
   "id": "885487cb",
   "metadata": {},
   "outputs": [],
   "source": [
    "#Same but weighted\n",
    "#Don't share y axis for type2\n",
    "fig, ax = plt.subplots(2,2,figsize=(18,12),sharey=False)\n",
    "\n",
    "#Random attack LHS graphs\n",
    "\n",
    "ax[0,1].plot('prop_removed','diameter',data=df_type1_weighted,ls='-',color='darkblue')\n",
    "ax[0,0].plot('prop_removed','density',data=df_type1_weighted,ls='-',color='darkviolet')\n",
    "ax[0,0].plot('prop_removed','assortativity_degree',data=df_type1_weighted,ls='-',color='darkturquoise')\n",
    "ax[0,0].plot('prop_removed','average_path_len',data=df_type1_weighted,ls='-',color='darkorange')\n",
    "ax[0,0].legend(loc='upper right')\n",
    "ax[0,0].set_xlabel('Proportion of nodes removed')\n",
    "ax[0,0].set_title('Random deletion')\n",
    "\n",
    "ax2_1 = ax[0,0].twinx()\n",
    "ax2_1.plot('prop_removed','avg_weighted_indegree',data=df_type1_weighted,ls='-',color='darkred')\n",
    "ax2_1.tick_params('y',colors='darkred')\n",
    "ax2_1.set_ylabel('Avg inDegree')\n",
    "ax2_1.legend(loc='upper left')\n",
    "\n",
    "#Random attack RHS Graphs - Betweenness & Diameter\n",
    "ax[0,1].set_title('Random deletion - Betweenness & Diameter')\n",
    "ax[0,1].legend(loc='upper left')\n",
    "\n",
    "ax_bet_rand = ax[0,1].twinx()\n",
    "ax_bet_rand.plot('prop_removed','avg_weighted_betweenness',data=df_type1_weighted,ls='--',color='darkgreen')\n",
    "ax_bet_rand.tick_params('y',colors='darkgreen')\n",
    "ax_bet_rand.set_ylabel('Avg_weighted_betweenness')\n",
    "ax_bet_rand.legend(loc='upper right')\n",
    "\n",
    "\n",
    "#Targeted attack LHS Graphs\n",
    "\n",
    "ax[1,1].plot('prop_removed','diameter',data=df_type2_weighted,ls='-',color='blue')\n",
    "ax[1,0].plot('prop_removed','density',data=df_type2_weighted,ls='-',color='violet')\n",
    "ax[1,0].plot('prop_removed','assortativity_degree',data=df_type2_weighted,ls='-',color='turquoise')\n",
    "ax[1,0].plot('prop_removed','average_path_len',data=df_type2_weighted,ls='-',color='orange')\n",
    "ax[1,0].legend(loc='upper right')\n",
    "ax[1,0].set_xlabel('Proportion of nodes removed')\n",
    "ax[1,0].set_title('Targeted deletion')\n",
    "\n",
    "ax2_2 = ax[1,0].twinx()\n",
    "ax2_2.plot('prop_removed','avg_weighted_indegree',data=df_type2_weighted,ls='-',color='darkred')\n",
    "ax2_2.set_ylabel('Avg inDegree')\n",
    "ax2_2.legend(loc='upper left')\n",
    "ax2_2.tick_params('y',colors='darkred')\n",
    "\n",
    "\n",
    "#Targeted attack RHS Graphs - Betweenness & Diameter \n",
    "\n",
    "ax[1,1].set_title('Targeted deletion - Betweenness & Diameter')\n",
    "ax[1,1].legend(loc='upper left')\n",
    "\n",
    "ax_bet_tar = ax[1,1].twinx()\n",
    "ax_bet_tar.plot('prop_removed','avg_weighted_betweenness',data=df_type2_weighted,ls='--',color='green')\n",
    "ax_bet_tar.tick_params('y',colors='green')\n",
    "ax_bet_tar.set_ylabel('avg weighted betweenness')\n",
    "ax_bet_tar.legend(loc='upper right')\n",
    "plt.show()"
   ]
  }
 ],
 "metadata": {
  "kernelspec": {
   "display_name": "Python 3",
   "language": "python",
   "name": "python3"
  },
  "language_info": {
   "codemirror_mode": {
    "name": "ipython",
    "version": 3
   },
   "file_extension": ".py",
   "mimetype": "text/x-python",
   "name": "python",
   "nbconvert_exporter": "python",
   "pygments_lexer": "ipython3",
   "version": "3.8.8"
  }
 },
 "nbformat": 4,
 "nbformat_minor": 5
}
